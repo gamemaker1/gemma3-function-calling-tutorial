{
 "cells": [
  {
   "cell_type": "markdown",
   "id": "d38127f4-d284-457a-b2ab-0341f2ecb887",
   "metadata": {},
   "source": [
    "## Notice\n",
    "\n",
    "This notebook has been moved to the parent directory."
   ]
  },
  {
   "cell_type": "code",
   "execution_count": null,
   "id": "9cd1f1f1-4104-43e9-9de5-2257537c1838",
   "metadata": {},
   "outputs": [],
   "source": []
  }
 ],
 "metadata": {
  "kernelspec": {
   "display_name": "Python 3 (ipykernel)",
   "language": "python",
   "name": "python3"
  },
  "language_info": {
   "codemirror_mode": {
    "name": "ipython",
    "version": 3
   },
   "file_extension": ".py",
   "mimetype": "text/x-python",
   "name": "python",
   "nbconvert_exporter": "python",
   "pygments_lexer": "ipython3",
   "version": "3.13.3"
  }
 },
 "nbformat": 4,
 "nbformat_minor": 5
}
