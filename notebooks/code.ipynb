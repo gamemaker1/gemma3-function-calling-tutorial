{
 "cells": [
  {
   "cell_type": "markdown",
   "id": "259f1965-6875-4a54-a34e-30ef3293d033",
   "metadata": {},
   "source": [
    "## Notice\n",
    "\n",
    "This notebook has been moved to the parent directory."
   ]
  },
  {
   "cell_type": "code",
   "execution_count": null,
   "id": "b2bfefd3-3ef3-4c72-894f-2c496cf6f5ff",
   "metadata": {},
   "outputs": [],
   "source": []
  }
 ],
 "metadata": {
  "kernelspec": {
   "display_name": "Python 3 (ipykernel)",
   "language": "python",
   "name": "python3"
  },
  "language_info": {
   "codemirror_mode": {
    "name": "ipython",
    "version": 3
   },
   "file_extension": ".py",
   "mimetype": "text/x-python",
   "name": "python",
   "nbconvert_exporter": "python",
   "pygments_lexer": "ipython3",
   "version": "3.13.3"
  }
 },
 "nbformat": 4,
 "nbformat_minor": 5
}
