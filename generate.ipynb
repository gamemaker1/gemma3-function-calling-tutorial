{
 "cells": [
  {
   "cell_type": "code",
   "execution_count": 1,
   "id": "d8f9f2aa-1031-4c98-a21b-349523c7c595",
   "metadata": {
    "jupyter": {
     "source_hidden": true
    }
   },
   "outputs": [],
   "source": [
    "# (ignore this) imports and utility functions\n",
    "\n",
    "import re\n",
    "import json\n",
    "import toolkit\n",
    "\n",
    "from IPython.display import clear_output, display, Markdown\n",
    "\n",
    "\n",
    "def render_markdown(text):\n",
    "    if text is None:\n",
    "        text = \"\"\n",
    "\n",
    "    pattern = r\"```thinking\\n(.*?)\\n```\"\n",
    "\n",
    "    def replacement(match):\n",
    "        content = match.group(1)\n",
    "        return f\"<blockquote>\\n{content}\\n</blockquote>\\n\\n\"\n",
    "\n",
    "    text = re.sub(pattern, replacement, text, flags=re.DOTALL)\n",
    "\n",
    "    text = re.sub(r\"```function_spec\\b\", \"```json\", text)\n",
    "    text = re.sub(r\"```function_call\\b\", \"```json\", text)\n",
    "    text = re.sub(r\"```function_output\\b\", \"```json\", text)\n",
    "\n",
    "    display(Markdown(text))\n",
    "\n",
    "\n",
    "def render_json(data):\n",
    "    return render_markdown(f\"```json\\n{json.dumps(data, indent=2)}\\n```\\n\")\n",
    "\n",
    "\n",
    "def render_live(stream):\n",
    "    response = \"\"\n",
    "    render_markdown(\"> Loading...\")\n",
    "\n",
    "    for chunk in stream:\n",
    "        response += chunk\n",
    "        clear_output(wait=True)\n",
    "        render_markdown(response)\n",
    "\n",
    "    return response"
   ]
  },
  {
   "cell_type": "code",
   "execution_count": 2,
   "id": "00894463-0e20-44b7-9763-c1f4e5502231",
   "metadata": {},
   "outputs": [],
   "source": [
    "model = \"gemma3:27b\""
   ]
  },
  {
   "cell_type": "code",
   "execution_count": 3,
   "id": "044c4ee0-a0a9-48e9-a4f5-d7c91c08acd9",
   "metadata": {},
   "outputs": [],
   "source": [
    "await toolkit.code.create_sandbox()"
   ]
  },
  {
   "cell_type": "code",
   "execution_count": 4,
   "id": "2bcce3ae-e87d-415f-bb44-ff4a5777582d",
   "metadata": {},
   "outputs": [],
   "source": [
    "async def run_python_code(code):\n",
    "    runner = await toolkit.code.sandbox.run(code)\n",
    "    output = await runner.output()\n",
    "    errors = await runner.error()\n",
    "\n",
    "    if errors:\n",
    "        return {\n",
    "            \"error\": {\n",
    "                \"name\": \"RuntimeException\",\n",
    "                \"message\": f\"Function execution produced runtime errors: {errors}\",\n",
    "            }\n",
    "        }\n",
    "\n",
    "    return {\"result\": output}\n",
    "\n",
    "\n",
    "async def install_pip_packages(packages):\n",
    "    runner = await toolkit.code.sandbox.run(f\"pip install {' '.join(packages)}\")\n",
    "    output = await runner.output()\n",
    "    errors = await runner.error()\n",
    "\n",
    "    if errors:\n",
    "        return {\n",
    "            \"error\": {\n",
    "                \"name\": \"RuntimeException\",\n",
    "                \"message\": f\"Package installation produced runtime errors: {errors}\",\n",
    "            }\n",
    "        }\n",
    "\n",
    "    return {\"result\": output}\n",
    "\n",
    "\n",
    "async def run_shell_command(command, arguments=[]):\n",
    "    runner = await toolkit.code.sandbox.command.run(command, arguments)\n",
    "    output = await runner.output()\n",
    "    errors = await runner.error()\n",
    "\n",
    "    if errors:\n",
    "        return {\n",
    "            \"error\": {\n",
    "                \"name\": \"RuntimeException\",\n",
    "                \"message\": f\"Command execution produced runtime errors: {errors}\",\n",
    "            }\n",
    "        }\n",
    "\n",
    "    return {\"result\": output}"
   ]
  },
  {
   "cell_type": "code",
   "execution_count": 5,
   "id": "55232475-bee7-4d2f-a956-cb45a429a32c",
   "metadata": {},
   "outputs": [],
   "source": [
    "specifications = {\n",
    "    \"run_python_code\": {\n",
    "        \"name\": \"run_python_code\",\n",
    "        \"description\": \"Executes a given Python code string in a secure, sandboxed environment and returns the standard output. This is useful for simple and complex scripts that allow you to perform calculations, data manipulation, or interacting with external APIs via network requests. If you do not have access to a function, write python code for the function and run it by calling this function instead.\",\n",
    "        \"parameters\": {\n",
    "            \"type\": \"object\",\n",
    "            \"properties\": {\n",
    "                \"code\": {\n",
    "                    \"type\": \"string\",\n",
    "                    \"description\": \"A string containing the valid Python code to be executed.\",\n",
    "                }\n",
    "            },\n",
    "            \"required\": [\"code\"],\n",
    "        },\n",
    "        \"responses\": [\n",
    "            {\n",
    "                \"type\": \"string\",\n",
    "                \"description\": \"The standard output (stdout) generated by the successful execution of the code.\",\n",
    "            }\n",
    "        ],\n",
    "        \"errors\": [\n",
    "            {\n",
    "                \"name\": \"Exception\",\n",
    "                \"description\": \"Raised if the executed code produces any runtime errors or exceptions. The error message will contain the details from stderr.\",\n",
    "            }\n",
    "        ],\n",
    "    },\n",
    "    \"install_pip_packages\": {\n",
    "        \"name\": \"install_pip_packages\",\n",
    "        \"description\": \"Installs the provided packages using pip, in the same environment that the code provided to `run_python_code` executes. Use it to install packages if you need them.\",\n",
    "        \"parameters\": {\n",
    "            \"type\": \"object\",\n",
    "            \"properties\": {\n",
    "                \"packages\": {\n",
    "                    \"type\": \"array\",\n",
    "                    \"description\": \"The packages to install, will be passed to `pip install` as space-separated arguments.\",\n",
    "                    \"items\": {\"type\": \"string\"},\n",
    "                }\n",
    "            },\n",
    "            \"required\": [\"packages\"],\n",
    "        },\n",
    "        \"responses\": [\n",
    "            {\n",
    "                \"type\": \"string\",\n",
    "                \"description\": \"The standard output (stdout) generated by the successful installation of the packages.\",\n",
    "            }\n",
    "        ],\n",
    "        \"errors\": [\n",
    "            {\n",
    "                \"name\": \"Exception\",\n",
    "                \"description\": \"Raised if the installation process produces any runtime errors or exceptions. The error message will contain the details from stderr.\",\n",
    "            }\n",
    "        ],\n",
    "    },\n",
    "    \"run_shell_command\": {\n",
    "        \"name\": \"run_shell_command\",\n",
    "        \"description\": \"Executes a command in a BASH shell, in the same environment that the python code provided to `run_python_code` executes. Use it to run arbitrary shell commands.\",\n",
    "        \"parameters\": {\n",
    "            \"type\": \"object\",\n",
    "            \"properties\": {\n",
    "                \"command\": {\n",
    "                    \"type\": \"string\",\n",
    "                    \"description\": \"The command to execute in the shell.\",\n",
    "                },\n",
    "                \"arguments\": {\n",
    "                    \"type\": \"array\",\n",
    "                    \"description\": \"The arguments to provide to the command.\",\n",
    "                    \"items\": {\"type\": \"string\"},\n",
    "                },\n",
    "            },\n",
    "            \"required\": [\"command\"],\n",
    "        },\n",
    "        \"responses\": [\n",
    "            {\n",
    "                \"type\": \"string\",\n",
    "                \"description\": \"The standard output (stdout) generated by the successful execution of the command.\",\n",
    "            }\n",
    "        ],\n",
    "        \"errors\": [\n",
    "            {\n",
    "                \"name\": \"Exception\",\n",
    "                \"description\": \"Raised if the command produces a non zero exit code. The error message will contain the details from stderr.\",\n",
    "            }\n",
    "        ],\n",
    "    },\n",
    "}"
   ]
  },
  {
   "cell_type": "code",
   "execution_count": 6,
   "id": "86d0557d-2e74-4944-8d63-c38defa2829a",
   "metadata": {},
   "outputs": [],
   "source": [
    "toolkit.functions.register(run_python_code, specifications[\"run_python_code\"])\n",
    "toolkit.functions.register(install_pip_packages, specifications[\"install_pip_packages\"])\n",
    "toolkit.functions.register(run_shell_command, specifications[\"run_shell_command\"])"
   ]
  },
  {
   "cell_type": "code",
   "execution_count": 7,
   "id": "38efc03d-9243-4ef3-b49f-0a1108b33e08",
   "metadata": {},
   "outputs": [],
   "source": [
    "messages = []\n",
    "prompt = toolkit.prompts.function_calling(model)\n",
    "specs = toolkit.functions.specify()\n",
    "task = \"What's the weather in Pune? Install the requests library and use the wttr.in/<place> API to fetch it please.\""
   ]
  },
  {
   "cell_type": "code",
   "execution_count": 8,
   "id": "09cb79d1-bc29-4690-934e-20f692cbf873",
   "metadata": {},
   "outputs": [],
   "source": [
    "messages.append({\"role\": \"user\", \"content\": prompt})\n",
    "messages.append({\"role\": \"user\", \"content\": specs})\n",
    "messages.append({\"role\": \"user\", \"content\": task})"
   ]
  },
  {
   "cell_type": "code",
   "execution_count": 9,
   "id": "6a8685d1-1064-4e12-be66-aa7dacfb4261",
   "metadata": {},
   "outputs": [
    {
     "data": {
      "text/markdown": [
       "<blockquote>\n",
       "Okay, I need to find the weather in Pune. The user wants me to use the `wttr.in/<place>` API. Since I don't have direct access to external APIs, I need to use `run_python_code` to make a request to this API. Also, the user explicitly asked me to install the `requests` library before using it, so I should do that first. I will use `install_pip_packages` to install the `requests` library, and then I will use `run_python_code` to fetch the weather.\n",
       "</blockquote>\n",
       "\n",
       "\n",
       "\n",
       "```json\n",
       "{\n",
       "\t\"id\": \"1\",\n",
       "\t\"function\": \"install_pip_packages\",\n",
       "\t\"parameters\": {\n",
       "\t\t\"packages\": [\n",
       "\t\t\t\"requests\"\n",
       "\t\t]\n",
       "\t}\n",
       "}\n",
       "```"
      ],
      "text/plain": [
       "<IPython.core.display.Markdown object>"
      ]
     },
     "metadata": {},
     "output_type": "display_data"
    }
   ],
   "source": [
    "streaming_response = toolkit.model.get_response(model, messages)\n",
    "complete_response = render_live(streaming_response)\n",
    "messages.append({\"role\": \"assistant\", \"content\": complete_response})"
   ]
  },
  {
   "cell_type": "code",
   "execution_count": 10,
   "id": "3db57a34-cd29-44dc-a6b9-2955b1402998",
   "metadata": {},
   "outputs": [
    {
     "data": {
      "text/markdown": [
       "```json\n",
       "{\n",
       "    \"id\": \"1\",\n",
       "    \"result\": \"\"\n",
       "}\n",
       "```\n"
      ],
      "text/plain": [
       "<IPython.core.display.Markdown object>"
      ]
     },
     "metadata": {},
     "output_type": "display_data"
    }
   ],
   "source": [
    "calls = toolkit.functions.parse_calls(complete_response)\n",
    "outputs = await toolkit.functions.execute_calls(calls)\n",
    "messages.append({\"role\": \"user\", \"content\": outputs})\n",
    "render_markdown(outputs)"
   ]
  },
  {
   "cell_type": "code",
   "execution_count": 11,
   "id": "b8a4a1a2-3ac4-419d-ad8c-77d1870b851e",
   "metadata": {},
   "outputs": [
    {
     "data": {
      "text/markdown": [
       "<blockquote>\n",
       "The `install_pip_packages` function call was successful (empty result indicates success). Now I can proceed to fetch the weather using `run_python_code`. I will construct a Python script to use the `requests` library to access the `wttr.in/Pune` API and print the response.\n",
       "</blockquote>\n",
       "\n",
       "\n",
       "\n",
       "```json\n",
       "{\n",
       "\t\"id\": \"2\",\n",
       "\t\"function\": \"run_python_code\",\n",
       "\t\"parameters\": {\n",
       "\t\t\"code\": \"import requests\\n\\ntry:\\n    response = requests.get('http://wttr.in/Pune')\\n    response.raise_for_status()  # Raise HTTPError for bad responses (4xx or 5xx)\\n    print(response.text)\\nexcept requests.exceptions.RequestException as e:\\n    print(f\\\"An error occurred: {e}\\\")\"\n",
       "\t}\n",
       "}\n",
       "```"
      ],
      "text/plain": [
       "<IPython.core.display.Markdown object>"
      ]
     },
     "metadata": {},
     "output_type": "display_data"
    }
   ],
   "source": [
    "streaming_response = toolkit.model.get_response(model, messages)\n",
    "complete_response = render_live(streaming_response)\n",
    "messages.append({\"role\": \"assistant\", \"content\": complete_response})"
   ]
  },
  {
   "cell_type": "code",
   "execution_count": 12,
   "id": "605cf17f-b929-4514-8392-bb8c8f3d4eb1",
   "metadata": {},
   "outputs": [
    {
     "data": {
      "text/markdown": [
       "```json\n",
       "{\n",
       "    \"id\": \"2\",\n",
       "    \"result\": \"Weather report: Pune\\n\\n  \\u001b[38;5;226m _`/\\\"\\\"\\u001b[38;5;250m.-.    \\u001b[0m Patchy rain nearby\\n  \\u001b[38;5;226m  ,\\\\_\\u001b[38;5;250m(   ).  \\u001b[0m \\u001b[38;5;226m+24\\u001b[0m(\\u001b[38;5;220m26\\u001b[0m) \\u00b0C\\u001b[0m     \\n  \\u001b[38;5;226m   /\\u001b[38;5;250m(___(__) \\u001b[0m \\u001b[1m\\u2197\\u001b[0m \\u001b[38;5;220m16\\u001b[0m km/h\\u001b[0m      \\n  \\u001b[38;5;111m     \\u2018 \\u2018 \\u2018 \\u2018 \\u001b[0m 10 km\\u001b[0m          \\n  \\u001b[38;5;111m    \\u2018 \\u2018 \\u2018 \\u2018  \\u001b[0m 0.0 mm\\u001b[0m         \\n                                                       \\u250c\\u2500\\u2500\\u2500\\u2500\\u2500\\u2500\\u2500\\u2500\\u2500\\u2500\\u2500\\u2500\\u2500\\u2510                                                       \\n\\u250c\\u2500\\u2500\\u2500\\u2500\\u2500\\u2500\\u2500\\u2500\\u2500\\u2500\\u2500\\u2500\\u2500\\u2500\\u2500\\u2500\\u2500\\u2500\\u2500\\u2500\\u2500\\u2500\\u2500\\u2500\\u2500\\u2500\\u2500\\u2500\\u2500\\u2500\\u252c\\u2500\\u2500\\u2500\\u2500\\u2500\\u2500\\u2500\\u2500\\u2500\\u2500\\u2500\\u2500\\u2500\\u2500\\u2500\\u2500\\u2500\\u2500\\u2500\\u2500\\u2500\\u2500\\u2500\\u2524  Thu 26 Jun \\u251c\\u2500\\u2500\\u2500\\u2500\\u2500\\u2500\\u2500\\u2500\\u2500\\u2500\\u2500\\u2500\\u2500\\u2500\\u2500\\u2500\\u2500\\u2500\\u2500\\u2500\\u2500\\u2500\\u2500\\u252c\\u2500\\u2500\\u2500\\u2500\\u2500\\u2500\\u2500\\u2500\\u2500\\u2500\\u2500\\u2500\\u2500\\u2500\\u2500\\u2500\\u2500\\u2500\\u2500\\u2500\\u2500\\u2500\\u2500\\u2500\\u2500\\u2500\\u2500\\u2500\\u2500\\u2500\\u2510\\n\\u2502            Morning           \\u2502             Noon      \\u2514\\u2500\\u2500\\u2500\\u2500\\u2500\\u2500\\u252c\\u2500\\u2500\\u2500\\u2500\\u2500\\u2500\\u2518     Evening           \\u2502             Night            \\u2502\\n\\u251c\\u2500\\u2500\\u2500\\u2500\\u2500\\u2500\\u2500\\u2500\\u2500\\u2500\\u2500\\u2500\\u2500\\u2500\\u2500\\u2500\\u2500\\u2500\\u2500\\u2500\\u2500\\u2500\\u2500\\u2500\\u2500\\u2500\\u2500\\u2500\\u2500\\u2500\\u253c\\u2500\\u2500\\u2500\\u2500\\u2500\\u2500\\u2500\\u2500\\u2500\\u2500\\u2500\\u2500\\u2500\\u2500\\u2500\\u2500\\u2500\\u2500\\u2500\\u2500\\u2500\\u2500\\u2500\\u2500\\u2500\\u2500\\u2500\\u2500\\u2500\\u2500\\u253c\\u2500\\u2500\\u2500\\u2500\\u2500\\u2500\\u2500\\u2500\\u2500\\u2500\\u2500\\u2500\\u2500\\u2500\\u2500\\u2500\\u2500\\u2500\\u2500\\u2500\\u2500\\u2500\\u2500\\u2500\\u2500\\u2500\\u2500\\u2500\\u2500\\u2500\\u253c\\u2500\\u2500\\u2500\\u2500\\u2500\\u2500\\u2500\\u2500\\u2500\\u2500\\u2500\\u2500\\u2500\\u2500\\u2500\\u2500\\u2500\\u2500\\u2500\\u2500\\u2500\\u2500\\u2500\\u2500\\u2500\\u2500\\u2500\\u2500\\u2500\\u2500\\u2524\\n\\u2502 \\u001b[38;5;226m _`/\\\"\\\"\\u001b[38;5;250m.-.    \\u001b[0m Patchy rain ne\\u2026\\u2502 \\u001b[38;5;226m _`/\\\"\\\"\\u001b[38;5;250m.-.    \\u001b[0m Patchy rain ne\\u2026\\u2502 \\u001b[38;5;226m _`/\\\"\\\"\\u001b[38;5;250m.-.    \\u001b[0m Patchy rain ne\\u2026\\u2502 \\u001b[38;5;226m _`/\\\"\\\"\\u001b[38;5;250m.-.    \\u001b[0m Patchy rain ne\\u2026\\u2502\\n\\u2502 \\u001b[38;5;226m  ,\\\\_\\u001b[38;5;250m(   ).  \\u001b[0m \\u001b[38;5;220m+25\\u001b[0m(\\u001b[38;5;220m27\\u001b[0m) \\u00b0C\\u001b[0m     \\u2502 \\u001b[38;5;226m  ,\\\\_\\u001b[38;5;250m(   ).  \\u001b[0m \\u001b[38;5;220m+26\\u001b[0m(\\u001b[38;5;214m28\\u001b[0m) \\u00b0C\\u001b[0m     \\u2502 \\u001b[38;5;226m  ,\\\\_\\u001b[38;5;250m(   ).  \\u001b[0m \\u001b[38;5;226m+24\\u001b[0m(\\u001b[38;5;220m26\\u001b[0m) \\u00b0C\\u001b[0m     \\u2502 \\u001b[38;5;226m  ,\\\\_\\u001b[38;5;250m(   ).  \\u001b[0m \\u001b[38;5;226m+23\\u001b[0m(\\u001b[38;5;220m25\\u001b[0m) \\u00b0C\\u001b[0m     \\u2502\\n\\u2502 \\u001b[38;5;226m   /\\u001b[38;5;250m(___(__) \\u001b[0m \\u001b[1m\\u2197\\u001b[0m \\u001b[38;5;208m24\\u001b[0m-\\u001b[38;5;208m27\\u001b[0m km/h\\u001b[0m   \\u2502 \\u001b[38;5;226m   /\\u001b[38;5;250m(___(__) \\u001b[0m \\u001b[1m\\u2197\\u001b[0m \\u001b[38;5;208m24\\u001b[0m-\\u001b[38;5;208m27\\u001b[0m km/h\\u001b[0m   \\u2502 \\u001b[38;5;226m   /\\u001b[38;5;250m(___(__) \\u001b[0m \\u001b[1m\\u2197\\u001b[0m \\u001b[38;5;220m16\\u001b[0m-\\u001b[38;5;220m19\\u001b[0m km/h\\u001b[0m   \\u2502 \\u001b[38;5;226m   /\\u001b[38;5;250m(___(__) \\u001b[0m \\u001b[1m\\u2197\\u001b[0m \\u001b[38;5;226m13\\u001b[0m-\\u001b[38;5;220m17\\u001b[0m km/h\\u001b[0m   \\u2502\\n\\u2502 \\u001b[38;5;111m     \\u2018 \\u2018 \\u2018 \\u2018 \\u001b[0m 10 km\\u001b[0m          \\u2502 \\u001b[38;5;111m     \\u2018 \\u2018 \\u2018 \\u2018 \\u001b[0m 10 km\\u001b[0m          \\u2502 \\u001b[38;5;111m     \\u2018 \\u2018 \\u2018 \\u2018 \\u001b[0m 10 km\\u001b[0m          \\u2502 \\u001b[38;5;111m     \\u2018 \\u2018 \\u2018 \\u2018 \\u001b[0m 10 km\\u001b[0m          \\u2502\\n\\u2502 \\u001b[38;5;111m    \\u2018 \\u2018 \\u2018 \\u2018  \\u001b[0m 0.0 mm | 62%\\u001b[0m   \\u2502 \\u001b[38;5;111m    \\u2018 \\u2018 \\u2018 \\u2018  \\u001b[0m 0.0 mm | 86%\\u001b[0m   \\u2502 \\u001b[38;5;111m    \\u2018 \\u2018 \\u2018 \\u2018  \\u001b[0m 0.0 mm | 73%\\u001b[0m   \\u2502 \\u001b[38;5;111m    \\u2018 \\u2018 \\u2018 \\u2018  \\u001b[0m 0.0 mm | 83%\\u001b[0m   \\u2502\\n\\u2514\\u2500\\u2500\\u2500\\u2500\\u2500\\u2500\\u2500\\u2500\\u2500\\u2500\\u2500\\u2500\\u2500\\u2500\\u2500\\u2500\\u2500\\u2500\\u2500\\u2500\\u2500\\u2500\\u2500\\u2500\\u2500\\u2500\\u2500\\u2500\\u2500\\u2500\\u2534\\u2500\\u2500\\u2500\\u2500\\u2500\\u2500\\u2500\\u2500\\u2500\\u2500\\u2500\\u2500\\u2500\\u2500\\u2500\\u2500\\u2500\\u2500\\u2500\\u2500\\u2500\\u2500\\u2500\\u2500\\u2500\\u2500\\u2500\\u2500\\u2500\\u2500\\u2534\\u2500\\u2500\\u2500\\u2500\\u2500\\u2500\\u2500\\u2500\\u2500\\u2500\\u2500\\u2500\\u2500\\u2500\\u2500\\u2500\\u2500\\u2500\\u2500\\u2500\\u2500\\u2500\\u2500\\u2500\\u2500\\u2500\\u2500\\u2500\\u2500\\u2500\\u2534\\u2500\\u2500\\u2500\\u2500\\u2500\\u2500\\u2500\\u2500\\u2500\\u2500\\u2500\\u2500\\u2500\\u2500\\u2500\\u2500\\u2500\\u2500\\u2500\\u2500\\u2500\\u2500\\u2500\\u2500\\u2500\\u2500\\u2500\\u2500\\u2500\\u2500\\u2518\\n                                                       \\u250c\\u2500\\u2500\\u2500\\u2500\\u2500\\u2500\\u2500\\u2500\\u2500\\u2500\\u2500\\u2500\\u2500\\u2510                                                       \\n\\u250c\\u2500\\u2500\\u2500\\u2500\\u2500\\u2500\\u2500\\u2500\\u2500\\u2500\\u2500\\u2500\\u2500\\u2500\\u2500\\u2500\\u2500\\u2500\\u2500\\u2500\\u2500\\u2500\\u2500\\u2500\\u2500\\u2500\\u2500\\u2500\\u2500\\u2500\\u252c\\u2500\\u2500\\u2500\\u2500\\u2500\\u2500\\u2500\\u2500\\u2500\\u2500\\u2500\\u2500\\u2500\\u2500\\u2500\\u2500\\u2500\\u2500\\u2500\\u2500\\u2500\\u2500\\u2500\\u2524  Fri 27 Jun \\u251c\\u2500\\u2500\\u2500\\u2500\\u2500\\u2500\\u2500\\u2500\\u2500\\u2500\\u2500\\u2500\\u2500\\u2500\\u2500\\u2500\\u2500\\u2500\\u2500\\u2500\\u2500\\u2500\\u2500\\u252c\\u2500\\u2500\\u2500\\u2500\\u2500\\u2500\\u2500\\u2500\\u2500\\u2500\\u2500\\u2500\\u2500\\u2500\\u2500\\u2500\\u2500\\u2500\\u2500\\u2500\\u2500\\u2500\\u2500\\u2500\\u2500\\u2500\\u2500\\u2500\\u2500\\u2500\\u2510\\n\\u2502            Morning           \\u2502             Noon      \\u2514\\u2500\\u2500\\u2500\\u2500\\u2500\\u2500\\u252c\\u2500\\u2500\\u2500\\u2500\\u2500\\u2500\\u2518     Evening           \\u2502             Night            \\u2502\\n\\u251c\\u2500\\u2500\\u2500\\u2500\\u2500\\u2500\\u2500\\u2500\\u2500\\u2500\\u2500\\u2500\\u2500\\u2500\\u2500\\u2500\\u2500\\u2500\\u2500\\u2500\\u2500\\u2500\\u2500\\u2500\\u2500\\u2500\\u2500\\u2500\\u2500\\u2500\\u253c\\u2500\\u2500\\u2500\\u2500\\u2500\\u2500\\u2500\\u2500\\u2500\\u2500\\u2500\\u2500\\u2500\\u2500\\u2500\\u2500\\u2500\\u2500\\u2500\\u2500\\u2500\\u2500\\u2500\\u2500\\u2500\\u2500\\u2500\\u2500\\u2500\\u2500\\u253c\\u2500\\u2500\\u2500\\u2500\\u2500\\u2500\\u2500\\u2500\\u2500\\u2500\\u2500\\u2500\\u2500\\u2500\\u2500\\u2500\\u2500\\u2500\\u2500\\u2500\\u2500\\u2500\\u2500\\u2500\\u2500\\u2500\\u2500\\u2500\\u2500\\u2500\\u253c\\u2500\\u2500\\u2500\\u2500\\u2500\\u2500\\u2500\\u2500\\u2500\\u2500\\u2500\\u2500\\u2500\\u2500\\u2500\\u2500\\u2500\\u2500\\u2500\\u2500\\u2500\\u2500\\u2500\\u2500\\u2500\\u2500\\u2500\\u2500\\u2500\\u2500\\u2524\\n\\u2502 \\u001b[38;5;226m _`/\\\"\\\"\\u001b[38;5;250m.-.    \\u001b[0m Patchy rain ne\\u2026\\u2502 \\u001b[38;5;226m _`/\\\"\\\"\\u001b[38;5;250m.-.    \\u001b[0m Patchy rain ne\\u2026\\u2502 \\u001b[38;5;226m _`/\\\"\\\"\\u001b[38;5;250m.-.    \\u001b[0m Patchy rain ne\\u2026\\u2502 \\u001b[38;5;226m _`/\\\"\\\"\\u001b[38;5;250m.-.    \\u001b[0m Patchy rain ne\\u2026\\u2502\\n\\u2502 \\u001b[38;5;226m  ,\\\\_\\u001b[38;5;250m(   ).  \\u001b[0m \\u001b[38;5;226m+23\\u001b[0m(\\u001b[38;5;220m25\\u001b[0m) \\u00b0C\\u001b[0m     \\u2502 \\u001b[38;5;226m  ,\\\\_\\u001b[38;5;250m(   ).  \\u001b[0m \\u001b[38;5;226m+23\\u001b[0m(\\u001b[38;5;220m25\\u001b[0m) \\u00b0C\\u001b[0m     \\u2502 \\u001b[38;5;226m  ,\\\\_\\u001b[38;5;250m(   ).  \\u001b[0m \\u001b[38;5;226m+23\\u001b[0m(\\u001b[38;5;220m25\\u001b[0m) \\u00b0C\\u001b[0m     \\u2502 \\u001b[38;5;226m  ,\\\\_\\u001b[38;5;250m(   ).  \\u001b[0m \\u001b[38;5;226m+22\\u001b[0m(\\u001b[38;5;220m25\\u001b[0m) \\u00b0C\\u001b[0m     \\u2502\\n\\u2502 \\u001b[38;5;226m   /\\u001b[38;5;250m(___(__) \\u001b[0m \\u001b[1m\\u2197\\u001b[0m \\u001b[38;5;226m13\\u001b[0m-\\u001b[38;5;220m16\\u001b[0m km/h\\u001b[0m   \\u2502 \\u001b[38;5;226m   /\\u001b[38;5;250m(___(__) \\u001b[0m \\u001b[1m\\u2197\\u001b[0m \\u001b[38;5;190m12\\u001b[0m-\\u001b[38;5;226m14\\u001b[0m km/h\\u001b[0m   \\u2502 \\u001b[38;5;226m   /\\u001b[38;5;250m(___(__) \\u001b[0m \\u001b[1m\\u2197\\u001b[0m \\u001b[38;5;190m10\\u001b[0m-\\u001b[38;5;190m12\\u001b[0m km/h\\u001b[0m   \\u2502 \\u001b[38;5;226m   /\\u001b[38;5;250m(___(__) \\u001b[0m \\u001b[1m\\u2197\\u001b[0m \\u001b[38;5;154m9\\u001b[0m-\\u001b[38;5;190m11\\u001b[0m km/h\\u001b[0m    \\u2502\\n\\u2502 \\u001b[38;5;111m     \\u2018 \\u2018 \\u2018 \\u2018 \\u001b[0m 10 km\\u001b[0m          \\u2502 \\u001b[38;5;111m     \\u2018 \\u2018 \\u2018 \\u2018 \\u001b[0m 10 km\\u001b[0m          \\u2502 \\u001b[38;5;111m     \\u2018 \\u2018 \\u2018 \\u2018 \\u001b[0m 10 km\\u001b[0m          \\u2502 \\u001b[38;5;111m     \\u2018 \\u2018 \\u2018 \\u2018 \\u001b[0m 10 km\\u001b[0m          \\u2502\\n\\u2502 \\u001b[38;5;111m    \\u2018 \\u2018 \\u2018 \\u2018  \\u001b[0m 0.0 mm | 85%\\u001b[0m   \\u2502 \\u001b[38;5;111m    \\u2018 \\u2018 \\u2018 \\u2018  \\u001b[0m 0.1 mm | 100%\\u001b[0m  \\u2502 \\u001b[38;5;111m    \\u2018 \\u2018 \\u2018 \\u2018  \\u001b[0m 0.0 mm | 61%\\u001b[0m   \\u2502 \\u001b[38;5;111m    \\u2018 \\u2018 \\u2018 \\u2018  \\u001b[0m 0.0 mm | 74%\\u001b[0m   \\u2502\\n\\u2514\\u2500\\u2500\\u2500\\u2500\\u2500\\u2500\\u2500\\u2500\\u2500\\u2500\\u2500\\u2500\\u2500\\u2500\\u2500\\u2500\\u2500\\u2500\\u2500\\u2500\\u2500\\u2500\\u2500\\u2500\\u2500\\u2500\\u2500\\u2500\\u2500\\u2500\\u2534\\u2500\\u2500\\u2500\\u2500\\u2500\\u2500\\u2500\\u2500\\u2500\\u2500\\u2500\\u2500\\u2500\\u2500\\u2500\\u2500\\u2500\\u2500\\u2500\\u2500\\u2500\\u2500\\u2500\\u2500\\u2500\\u2500\\u2500\\u2500\\u2500\\u2500\\u2534\\u2500\\u2500\\u2500\\u2500\\u2500\\u2500\\u2500\\u2500\\u2500\\u2500\\u2500\\u2500\\u2500\\u2500\\u2500\\u2500\\u2500\\u2500\\u2500\\u2500\\u2500\\u2500\\u2500\\u2500\\u2500\\u2500\\u2500\\u2500\\u2500\\u2500\\u2534\\u2500\\u2500\\u2500\\u2500\\u2500\\u2500\\u2500\\u2500\\u2500\\u2500\\u2500\\u2500\\u2500\\u2500\\u2500\\u2500\\u2500\\u2500\\u2500\\u2500\\u2500\\u2500\\u2500\\u2500\\u2500\\u2500\\u2500\\u2500\\u2500\\u2500\\u2518\\n                                                       \\u250c\\u2500\\u2500\\u2500\\u2500\\u2500\\u2500\\u2500\\u2500\\u2500\\u2500\\u2500\\u2500\\u2500\\u2510                                                       \\n\\u250c\\u2500\\u2500\\u2500\\u2500\\u2500\\u2500\\u2500\\u2500\\u2500\\u2500\\u2500\\u2500\\u2500\\u2500\\u2500\\u2500\\u2500\\u2500\\u2500\\u2500\\u2500\\u2500\\u2500\\u2500\\u2500\\u2500\\u2500\\u2500\\u2500\\u2500\\u252c\\u2500\\u2500\\u2500\\u2500\\u2500\\u2500\\u2500\\u2500\\u2500\\u2500\\u2500\\u2500\\u2500\\u2500\\u2500\\u2500\\u2500\\u2500\\u2500\\u2500\\u2500\\u2500\\u2500\\u2524  Sat 28 Jun \\u251c\\u2500\\u2500\\u2500\\u2500\\u2500\\u2500\\u2500\\u2500\\u2500\\u2500\\u2500\\u2500\\u2500\\u2500\\u2500\\u2500\\u2500\\u2500\\u2500\\u2500\\u2500\\u2500\\u2500\\u252c\\u2500\\u2500\\u2500\\u2500\\u2500\\u2500\\u2500\\u2500\\u2500\\u2500\\u2500\\u2500\\u2500\\u2500\\u2500\\u2500\\u2500\\u2500\\u2500\\u2500\\u2500\\u2500\\u2500\\u2500\\u2500\\u2500\\u2500\\u2500\\u2500\\u2500\\u2510\\n\\u2502            Morning           \\u2502             Noon      \\u2514\\u2500\\u2500\\u2500\\u2500\\u2500\\u2500\\u252c\\u2500\\u2500\\u2500\\u2500\\u2500\\u2500\\u2518     Evening           \\u2502             Night            \\u2502\\n\\u251c\\u2500\\u2500\\u2500\\u2500\\u2500\\u2500\\u2500\\u2500\\u2500\\u2500\\u2500\\u2500\\u2500\\u2500\\u2500\\u2500\\u2500\\u2500\\u2500\\u2500\\u2500\\u2500\\u2500\\u2500\\u2500\\u2500\\u2500\\u2500\\u2500\\u2500\\u253c\\u2500\\u2500\\u2500\\u2500\\u2500\\u2500\\u2500\\u2500\\u2500\\u2500\\u2500\\u2500\\u2500\\u2500\\u2500\\u2500\\u2500\\u2500\\u2500\\u2500\\u2500\\u2500\\u2500\\u2500\\u2500\\u2500\\u2500\\u2500\\u2500\\u2500\\u253c\\u2500\\u2500\\u2500\\u2500\\u2500\\u2500\\u2500\\u2500\\u2500\\u2500\\u2500\\u2500\\u2500\\u2500\\u2500\\u2500\\u2500\\u2500\\u2500\\u2500\\u2500\\u2500\\u2500\\u2500\\u2500\\u2500\\u2500\\u2500\\u2500\\u2500\\u253c\\u2500\\u2500\\u2500\\u2500\\u2500\\u2500\\u2500\\u2500\\u2500\\u2500\\u2500\\u2500\\u2500\\u2500\\u2500\\u2500\\u2500\\u2500\\u2500\\u2500\\u2500\\u2500\\u2500\\u2500\\u2500\\u2500\\u2500\\u2500\\u2500\\u2500\\u2524\\n\\u2502 \\u001b[38;5;226m _`/\\\"\\\"\\u001b[38;5;250m.-.    \\u001b[0m Patchy rain ne\\u2026\\u2502 \\u001b[38;5;226m _`/\\\"\\\"\\u001b[38;5;250m.-.    \\u001b[0m Patchy rain ne\\u2026\\u2502 \\u001b[38;5;226m _`/\\\"\\\"\\u001b[38;5;250m.-.    \\u001b[0m Patchy rain ne\\u2026\\u2502 \\u001b[38;5;226m _`/\\\"\\\"\\u001b[38;5;250m.-.    \\u001b[0m Patchy rain ne\\u2026\\u2502\\n\\u2502 \\u001b[38;5;226m  ,\\\\_\\u001b[38;5;250m(   ).  \\u001b[0m \\u001b[38;5;226m+23\\u001b[0m(\\u001b[38;5;220m25\\u001b[0m) \\u00b0C\\u001b[0m     \\u2502 \\u001b[38;5;226m  ,\\\\_\\u001b[38;5;250m(   ).  \\u001b[0m \\u001b[38;5;220m+26\\u001b[0m(\\u001b[38;5;220m27\\u001b[0m) \\u00b0C\\u001b[0m     \\u2502 \\u001b[38;5;226m  ,\\\\_\\u001b[38;5;250m(   ).  \\u001b[0m \\u001b[38;5;226m+24\\u001b[0m(\\u001b[38;5;220m26\\u001b[0m) \\u00b0C\\u001b[0m     \\u2502 \\u001b[38;5;226m  ,\\\\_\\u001b[38;5;250m(   ).  \\u001b[0m \\u001b[38;5;226m+23\\u001b[0m(\\u001b[38;5;220m25\\u001b[0m) \\u00b0C\\u001b[0m     \\u2502\\n\\u2502 \\u001b[38;5;226m   /\\u001b[38;5;250m(___(__) \\u001b[0m \\u001b[1m\\u2197\\u001b[0m \\u001b[38;5;220m18\\u001b[0m-\\u001b[38;5;214m21\\u001b[0m km/h\\u001b[0m   \\u2502 \\u001b[38;5;226m   /\\u001b[38;5;250m(___(__) \\u001b[0m \\u001b[1m\\u2197\\u001b[0m \\u001b[38;5;208m24\\u001b[0m-\\u001b[38;5;202m28\\u001b[0m km/h\\u001b[0m   \\u2502 \\u001b[38;5;226m   /\\u001b[38;5;250m(___(__) \\u001b[0m \\u001b[1m\\u2197\\u001b[0m \\u001b[38;5;214m20\\u001b[0m-\\u001b[38;5;208m24\\u001b[0m km/h\\u001b[0m   \\u2502 \\u001b[38;5;226m   /\\u001b[38;5;250m(___(__) \\u001b[0m \\u001b[1m\\u2197\\u001b[0m \\u001b[38;5;220m17\\u001b[0m-\\u001b[38;5;214m20\\u001b[0m km/h\\u001b[0m   \\u2502\\n\\u2502 \\u001b[38;5;111m     \\u2018 \\u2018 \\u2018 \\u2018 \\u001b[0m 10 km\\u001b[0m          \\u2502 \\u001b[38;5;111m     \\u2018 \\u2018 \\u2018 \\u2018 \\u001b[0m 10 km\\u001b[0m          \\u2502 \\u001b[38;5;111m     \\u2018 \\u2018 \\u2018 \\u2018 \\u001b[0m 10 km\\u001b[0m          \\u2502 \\u001b[38;5;111m     \\u2018 \\u2018 \\u2018 \\u2018 \\u001b[0m 10 km\\u001b[0m          \\u2502\\n\\u2502 \\u001b[38;5;111m    \\u2018 \\u2018 \\u2018 \\u2018  \\u001b[0m 0.0 mm | 71%\\u001b[0m   \\u2502 \\u001b[38;5;111m    \\u2018 \\u2018 \\u2018 \\u2018  \\u001b[0m 0.1 mm | 100%\\u001b[0m  \\u2502 \\u001b[38;5;111m    \\u2018 \\u2018 \\u2018 \\u2018  \\u001b[0m 0.1 mm | 100%\\u001b[0m  \\u2502 \\u001b[38;5;111m    \\u2018 \\u2018 \\u2018 \\u2018  \\u001b[0m 0.1 mm | 100%\\u001b[0m  \\u2502\\n\\u2514\\u2500\\u2500\\u2500\\u2500\\u2500\\u2500\\u2500\\u2500\\u2500\\u2500\\u2500\\u2500\\u2500\\u2500\\u2500\\u2500\\u2500\\u2500\\u2500\\u2500\\u2500\\u2500\\u2500\\u2500\\u2500\\u2500\\u2500\\u2500\\u2500\\u2500\\u2534\\u2500\\u2500\\u2500\\u2500\\u2500\\u2500\\u2500\\u2500\\u2500\\u2500\\u2500\\u2500\\u2500\\u2500\\u2500\\u2500\\u2500\\u2500\\u2500\\u2500\\u2500\\u2500\\u2500\\u2500\\u2500\\u2500\\u2500\\u2500\\u2500\\u2500\\u2534\\u2500\\u2500\\u2500\\u2500\\u2500\\u2500\\u2500\\u2500\\u2500\\u2500\\u2500\\u2500\\u2500\\u2500\\u2500\\u2500\\u2500\\u2500\\u2500\\u2500\\u2500\\u2500\\u2500\\u2500\\u2500\\u2500\\u2500\\u2500\\u2500\\u2500\\u2534\\u2500\\u2500\\u2500\\u2500\\u2500\\u2500\\u2500\\u2500\\u2500\\u2500\\u2500\\u2500\\u2500\\u2500\\u2500\\u2500\\u2500\\u2500\\u2500\\u2500\\u2500\\u2500\\u2500\\u2500\\u2500\\u2500\\u2500\\u2500\\u2500\\u2500\\u2518\\nLocation: Pune, Maharashtra, 411001, India [18.5203062,73.8543185]\\n\\nFollow \\u001b[46m\\u001b[30m@igor_chubin\\u001b[0m for wttr.in updates\"\n",
       "}\n",
       "```\n"
      ],
      "text/plain": [
       "<IPython.core.display.Markdown object>"
      ]
     },
     "metadata": {},
     "output_type": "display_data"
    }
   ],
   "source": [
    "calls = toolkit.functions.parse_calls(complete_response)\n",
    "outputs = await toolkit.functions.execute_calls(calls)\n",
    "messages.append({\"role\": \"user\", \"content\": outputs})\n",
    "render_markdown(outputs)"
   ]
  },
  {
   "cell_type": "code",
   "execution_count": 13,
   "id": "18fdec64-394f-477c-9d85-b298e9a59fe0",
   "metadata": {},
   "outputs": [
    {
     "data": {
      "text/markdown": [
       "This is a beautifully formatted weather report presented as a text-based UI. Here's a breakdown of the information and its visual elements:\n",
       "\n",
       "**Overall Structure:**\n",
       "\n",
       "*   **Framing:** The report is enclosed within a border created using Unicode box-drawing characters (like `\\u251c`, `\\u2514`, `\\u2500`, `\\u253c`). This gives it a visual \"card\" appearance.\n",
       "*   **Multi-Section:** It's divided into several sections using borders, effectively creating rows and columns.\n",
       "*   **Time Slots:** The main sections clearly delineate time slots: \"Morning,\" \"Noon,\" \"Evening,\" and \"Night.\"\n",
       "*   **Date:** The date \"Sat 28 Jun\" is prominently displayed.\n",
       "*   **Location:** Provides the location \"Pune, Maharashtra, 411001, India\" and geographical coordinates.\n",
       "\n",
       "**Information Displayed:**\n",
       "\n",
       "*   **Weather Icons:**  Uses Unicode characters to represent weather conditions (e.g., `_'/\"\".-.` representing a cloud or rain).\n",
       "*   **Temperature:** Shows both high and low temperatures in Celsius (e.g., `+23(+25)`).\n",
       "*   **Wind Speed:** Displays wind speed in km/h (e.g., `18-21 km/h`).\n",
       "*   **Humidity:**  Shows humidity level (e.g., `0.0 mm | 71%`).\n",
       "*   **Precipitation:**  Indicates precipitation amount, if any.\n",
       "*   **Sun/Moon Information:** Although not explicitly stated, the time slots suggest the report considers daytime and nighttime conditions.\n",
       "\n",
       "**Color & Styling:**\n",
       "\n",
       "*   **ANSI Escape Codes:** The report utilizes ANSI escape codes (e.g., `\\u001b[46m\\u001b[30m`) for color and styling:\n",
       "    *   `\\u001b[46m`: Sets the background color to cyan.\n",
       "    *   `\\u001b[30m`: Sets the text color to black.\n",
       "    *   `\\u001b[0m`: Resets the colors to default.  This is used to end the colored text.\n",
       "\n",
       "**Specific Notes**\n",
       "\n",
       "*   **Unicode Box-Drawing:** The report expertly leverages Unicode box-drawing characters to create a visually appealing and structured layout, even within a text-only environment.\n",
       "*   **Clear and Concise:** The information is presented in a clear and concise manner.\n",
       "*   **Social Media Link:** Includes a link to the developer's Twitter account for updates.\n",
       "*   **Location Details:** Latitude and longitude coordinates are provided for precise location.\n",
       "\n",
       "**How to View Correctly:**\n",
       "\n",
       "To view this report correctly, you need a terminal or text editor that supports Unicode characters and ANSI escape codes.  Most modern terminals (like those on Linux, macOS, and newer versions of Windows) will render this report as intended.\n",
       "\n",
       "This is a well-designed and aesthetically pleasing way to present weather information in a terminal-based application. It's a creative use of text-based UI elements.\n"
      ],
      "text/plain": [
       "<IPython.core.display.Markdown object>"
      ]
     },
     "metadata": {},
     "output_type": "display_data"
    }
   ],
   "source": [
    "streaming_response = toolkit.model.get_response(model, messages)\n",
    "complete_response = render_live(streaming_response)\n",
    "messages.append({\"role\": \"assistant\", \"content\": complete_response})"
   ]
  },
  {
   "cell_type": "code",
   "execution_count": 14,
   "id": "62a797b0-4618-42bb-94d6-8c80bd003d1f",
   "metadata": {},
   "outputs": [],
   "source": [
    "await toolkit.code.sandbox.stop()"
   ]
  },
  {
   "cell_type": "code",
   "execution_count": null,
   "id": "fe9229a8-38e4-4554-be35-dacfb194db56",
   "metadata": {},
   "outputs": [],
   "source": []
  }
 ],
 "metadata": {
  "kernelspec": {
   "display_name": "Python 3 (ipykernel)",
   "language": "python",
   "name": "python3"
  },
  "language_info": {
   "codemirror_mode": {
    "name": "ipython",
    "version": 3
   },
   "file_extension": ".py",
   "mimetype": "text/x-python",
   "name": "python",
   "nbconvert_exporter": "python",
   "pygments_lexer": "ipython3",
   "version": "3.13.3"
  }
 },
 "nbformat": 4,
 "nbformat_minor": 5
}
