{
 "cells": [
  {
   "cell_type": "code",
   "execution_count": 1,
   "id": "23f97568-6d55-4c38-9a84-b667520780a0",
   "metadata": {
    "jupyter": {
     "source_hidden": true
    }
   },
   "outputs": [],
   "source": [
    "# (ignore this) imports and utility functions\n",
    "\n",
    "import re\n",
    "import json\n",
    "import toolkit\n",
    "\n",
    "from textwrap import dedent\n",
    "from IPython.display import clear_output, display, Markdown\n",
    "\n",
    "\n",
    "def render_markdown(text):\n",
    "    if text is None:\n",
    "        text = \"\"\n",
    "\n",
    "    pattern = r\"```thinking\\n(.*?)\\n```\"\n",
    "\n",
    "    def replacement(match):\n",
    "        content = match.group(1)\n",
    "        return f\"<blockquote>\\n{content}\\n</blockquote>\\n\\n\"\n",
    "\n",
    "    text = re.sub(pattern, replacement, text, flags=re.DOTALL)\n",
    "\n",
    "    text = re.sub(r\"```function_spec\\b\", \"```json\", text)\n",
    "    text = re.sub(r\"```function_call\\b\", \"```json\", text)\n",
    "    text = re.sub(r\"```function_output\\b\", \"```json\", text)\n",
    "\n",
    "    display(Markdown(text))\n",
    "\n",
    "\n",
    "def render_json(data):\n",
    "    return render_markdown(f\"```json\\n{json.dumps(data, indent=2)}\\n```\\n\")\n",
    "\n",
    "\n",
    "def render_live(stream):\n",
    "    response = \"\"\n",
    "    render_markdown(\"> Loading...\")\n",
    "\n",
    "    for chunk in stream:\n",
    "        response += chunk\n",
    "        clear_output(wait=True)\n",
    "        render_markdown(response)\n",
    "\n",
    "    return response"
   ]
  },
  {
   "cell_type": "code",
   "execution_count": 2,
   "id": "9a23a834-6e8a-47f4-ae7c-3d342266f538",
   "metadata": {},
   "outputs": [],
   "source": [
    "model = \"gemma3:27b\""
   ]
  },
  {
   "cell_type": "code",
   "execution_count": 3,
   "id": "83dd41e5-8f94-4194-ae57-47a85ab70dfe",
   "metadata": {},
   "outputs": [],
   "source": [
    "with open(\"schemas/function.schema.json\") as file:\n",
    "    schema = json.load(file)"
   ]
  },
  {
   "cell_type": "code",
   "execution_count": 4,
   "id": "07ba1e7f-25b9-4761-9ae1-233c3fe71005",
   "metadata": {},
   "outputs": [],
   "source": [
    "await toolkit.code.create_sandbox()"
   ]
  },
  {
   "cell_type": "code",
   "execution_count": 5,
   "id": "8128c16e-c668-46a3-aceb-9ec630ca4be8",
   "metadata": {},
   "outputs": [],
   "source": [
    "preface = dedent(\"\"\"\n",
    "    When generating code to access/interact with external systems for the user, please generate the\n",
    "    code in Python only. Follow the below guidelines as well:\n",
    "\n",
    "    - Do not generate examples that use the function.\n",
    "    - Do not print the result, return it from the function.\n",
    "    - Do not handle errors by printing or ignoring them, raise a custom exception with a user-friendly\n",
    "      name and message instead.\n",
    "    - Python is sensitive to indentation, so do not generate blank lines with only tabs or whitespaces.\n",
    "\"\"\")\n",
    "\n",
    "task = dedent(\"\"\"\n",
    "    I'd like to be able to ask you for the weather. Could you please write code to use the wttr.in API\n",
    "    to fetch the weather for me when I need it? Just make a request to this URL:\n",
    "\n",
    "            \"http://wttr.in/<place>?format=(%l) %C and %t (feels %f) with winds at %w\"\n",
    "\"\"\")"
   ]
  },
  {
   "cell_type": "code",
   "execution_count": 6,
   "id": "82cceb3d-10ca-4e6d-9adb-af949858e171",
   "metadata": {},
   "outputs": [],
   "source": [
    "messages = [{\"role\": \"user\", \"content\": preface}, {\"role\": \"user\", \"content\": task}]"
   ]
  },
  {
   "cell_type": "code",
   "execution_count": 7,
   "id": "840c7aac-a8d5-4fb2-9593-acd595fb24cf",
   "metadata": {},
   "outputs": [
    {
     "data": {
      "text/markdown": [
       "```python\n",
       "import requests\n",
       "\n",
       "class WeatherError(Exception):\n",
       "    \"\"\"Custom exception for weather-related errors.\"\"\"\n",
       "    pass\n",
       "\n",
       "def get_weather(place):\n",
       "    \"\"\"\n",
       "    Fetches the weather for a given place using the wttr.in API.\n",
       "\n",
       "    Args:\n",
       "        place (str): The place to fetch the weather for.\n",
       "\n",
       "    Returns:\n",
       "        str: The weather information.\n",
       "\n",
       "    Raises:\n",
       "        WeatherError: If the request fails or the response is invalid.\n",
       "    \"\"\"\n",
       "    url = f\"http://wttr.in/{place}?format=(%l) %C and %t (feels %f) with winds at %w\"\n",
       "    try:\n",
       "        response = requests.get(url)\n",
       "        response.raise_for_status()  # Raise HTTPError for bad responses (4xx or 5xx)\n",
       "        return response.text\n",
       "    except requests.exceptions.RequestException as e:\n",
       "        raise WeatherError(f\"Failed to fetch weather for {place}: {e}\") from e\n",
       "    except Exception as e:\n",
       "        raise WeatherError(f\"An unexpected error occurred: {e}\") from e\n",
       "```"
      ],
      "text/plain": [
       "<IPython.core.display.Markdown object>"
      ]
     },
     "metadata": {},
     "output_type": "display_data"
    }
   ],
   "source": [
    "streaming_response = toolkit.model.get_response(model, messages)\n",
    "function_response = render_live(streaming_response)\n",
    "messages.append({\"role\": \"assistant\", \"content\": function_response})"
   ]
  },
  {
   "cell_type": "code",
   "execution_count": 8,
   "id": "2fa22d37-6add-435d-9a8f-d8f153d82852",
   "metadata": {},
   "outputs": [],
   "source": [
    "task = dedent(f\"\"\"\n",
    "    Generate a function specification for the function you just generated. Make sure it is produced in a code block\n",
    "    with the language set to `function_spec` instead of `json`. Make sure to follow the below schema:\n",
    "\n",
    "    {json.dumps(schema, indent=2)}\n",
    "\"\"\")"
   ]
  },
  {
   "cell_type": "code",
   "execution_count": 9,
   "id": "97167f36-fe5e-4fc8-a2eb-d477cad069b7",
   "metadata": {},
   "outputs": [],
   "source": [
    "messages.append({\"role\": \"user\", \"content\": task})"
   ]
  },
  {
   "cell_type": "code",
   "execution_count": 10,
   "id": "94fe4475-7cf9-42ee-ae37-cd4da4d07390",
   "metadata": {},
   "outputs": [
    {
     "data": {
      "text/markdown": [
       "```json\n",
       "{\n",
       "  \"name\": \"get_weather\",\n",
       "  \"description\": \"Fetches the current weather conditions for a given location using the wttr.in API. The API returns a formatted string with location, temperature, wind speed, and a short description.\",\n",
       "  \"parameters\": {\n",
       "    \"type\": \"object\",\n",
       "    \"properties\": {\n",
       "      \"place\": {\n",
       "        \"type\": \"string\",\n",
       "        \"description\": \"The location for which to retrieve the weather.  This can be a city name, city and country, or an airport code.\"\n",
       "      }\n",
       "    },\n",
       "    \"required\": [\n",
       "      \"place\"\n",
       "    ]\n",
       "  },\n",
       "  \"responses\": [\n",
       "    {\n",
       "      \"type\": \"string\",\n",
       "      \"description\": \"A string containing the weather information for the specified location. The format of the string is determined by the wttr.in API.\"\n",
       "    }\n",
       "  ],\n",
       "  \"errors\": [\n",
       "    {\n",
       "      \"name\": \"WeatherError\",\n",
       "      \"description\": \"Raised when there is an issue fetching the weather, such as a network error, an invalid location, or a problem with the wttr.in API.\"\n",
       "    }\n",
       "  ],\n",
       "  \"examples\": []\n",
       "}\n",
       "```"
      ],
      "text/plain": [
       "<IPython.core.display.Markdown object>"
      ]
     },
     "metadata": {},
     "output_type": "display_data"
    }
   ],
   "source": [
    "streaming_response = toolkit.model.get_response(model, messages)\n",
    "specification_response = render_live(streaming_response)\n",
    "messages.append({\"role\": \"assistant\", \"content\": specification_response})"
   ]
  },
  {
   "cell_type": "code",
   "execution_count": 11,
   "id": "5a13f74b-3c6c-47c8-9322-7b0b72ea87ea",
   "metadata": {},
   "outputs": [],
   "source": [
    "function = toolkit.functions.parse_funcs(function_response)[0]\n",
    "specification = toolkit.functions.parse_specs(specification_response)[0]\n",
    "\n",
    "function = await toolkit.code.define_function(specification[\"name\"], function)\n",
    "toolkit.functions.register(function, specification)"
   ]
  },
  {
   "cell_type": "code",
   "execution_count": 12,
   "id": "a0e06023-88b5-4002-a972-b838f7b36da5",
   "metadata": {},
   "outputs": [],
   "source": [
    "prompt = toolkit.prompts.function_calling(model)\n",
    "task = \"What's the weather in Pune and Singapore?\""
   ]
  },
  {
   "cell_type": "code",
   "execution_count": 13,
   "id": "33bfc1a3-d55e-4b23-b78a-e390e0bb4d99",
   "metadata": {},
   "outputs": [],
   "source": [
    "messages.append({\"role\": \"user\", \"content\": prompt})\n",
    "messages.append({\"role\": \"user\", \"content\": task})"
   ]
  },
  {
   "cell_type": "code",
   "execution_count": 14,
   "id": "ccdac298-40d3-4939-99fb-8b7a646f9c1e",
   "metadata": {},
   "outputs": [
    {
     "data": {
      "text/markdown": [
       "<blockquote>\n",
       "Okay, the user wants to know the weather in Pune and Singapore. I have access to the `get_weather` function which can fetch the weather for a given place. I need to call this function twice, once for Pune and once for Singapore. The calls are independent, so I can execute them in parallel.\n",
       "\n",
       "Guidelines followed:\n",
       "- Identified the need for a function call.\n",
       "- Determined that the function calls are independent and can be done in parallel.\n",
       "- Will call the function twice to fetch data for two locations.\n",
       "\n",
       "Guidelines not followed: None.\n",
       "</blockquote>\n",
       "\n",
       "\n",
       "\n",
       "```json\n",
       "{\n",
       "\t\"id\": \"1\",\n",
       "\t\"function\": \"get_weather\",\n",
       "\t\"parameters\": {\n",
       "\t\t\"place\": \"Pune\"\n",
       "\t}\n",
       "}\n",
       "```\n",
       "\n",
       "```json\n",
       "{\n",
       "\t\"id\": \"2\",\n",
       "\t\"function\": \"get_weather\",\n",
       "\t\"parameters\": {\n",
       "\t\t\"place\": \"Singapore\"\n",
       "\t}\n",
       "}\n",
       "```"
      ],
      "text/plain": [
       "<IPython.core.display.Markdown object>"
      ]
     },
     "metadata": {},
     "output_type": "display_data"
    }
   ],
   "source": [
    "streaming_response = toolkit.model.get_response(model, messages)\n",
    "complete_response = render_live(streaming_response)\n",
    "messages.append({\"role\": \"assistant\", \"content\": complete_response})"
   ]
  },
  {
   "cell_type": "code",
   "execution_count": 15,
   "id": "55cea6a4-3ec1-443e-831b-c077dea2c2e6",
   "metadata": {},
   "outputs": [
    {
     "data": {
      "text/markdown": [
       "```json\n",
       "{\n",
       "    \"id\": \"1\",\n",
       "    \"result\": \"(Pune) Patchy rain nearby and +23\\u00b0C (feels +25\\u00b0C) with winds at \\u219215km/h\"\n",
       "}\n",
       "```\n",
       "\n",
       "```json\n",
       "{\n",
       "    \"id\": \"2\",\n",
       "    \"result\": \"(Singapore) Partly cloudy and +30\\u00b0C (feels +36\\u00b0C) with winds at \\u219710km/h\"\n",
       "}\n",
       "```\n"
      ],
      "text/plain": [
       "<IPython.core.display.Markdown object>"
      ]
     },
     "metadata": {},
     "output_type": "display_data"
    }
   ],
   "source": [
    "calls = toolkit.functions.parse_calls(complete_response)\n",
    "outputs = await toolkit.functions.execute_calls(calls)\n",
    "render_markdown(outputs)"
   ]
  },
  {
   "cell_type": "code",
   "execution_count": 16,
   "id": "08464945-cfb5-46f5-8157-3fba99aeab77",
   "metadata": {},
   "outputs": [],
   "source": [
    "messages.append({\"role\": \"user\", \"content\": outputs})"
   ]
  },
  {
   "cell_type": "code",
   "execution_count": 17,
   "id": "0128ac50-2740-4757-a525-ff53e05b8bcd",
   "metadata": {},
   "outputs": [
    {
     "data": {
      "text/markdown": [
       "The weather in Pune is patchy rain with a temperature of 23°C (feels like 25°C) and winds at 15km/h. The weather in Singapore is partly cloudy with a temperature of 30°C (feels like 36°C) and winds at 10km/h."
      ],
      "text/plain": [
       "<IPython.core.display.Markdown object>"
      ]
     },
     "metadata": {},
     "output_type": "display_data"
    }
   ],
   "source": [
    "streaming_response = toolkit.model.get_response(model, messages)\n",
    "complete_response = render_live(streaming_response)\n",
    "messages.append({\"role\": \"assistant\", \"content\": complete_response})"
   ]
  }
 ],
 "metadata": {
  "kernelspec": {
   "display_name": "Python 3 (ipykernel)",
   "language": "python",
   "name": "python3"
  },
  "language_info": {
   "codemirror_mode": {
    "name": "ipython",
    "version": 3
   },
   "file_extension": ".py",
   "mimetype": "text/x-python",
   "name": "python",
   "nbconvert_exporter": "python",
   "pygments_lexer": "ipython3",
   "version": "3.13.3"
  }
 },
 "nbformat": 4,
 "nbformat_minor": 5
}
