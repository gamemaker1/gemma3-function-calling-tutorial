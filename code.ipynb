{
 "cells": [
  {
   "cell_type": "code",
   "execution_count": 1,
   "id": "23f97568-6d55-4c38-9a84-b667520780a0",
   "metadata": {
    "jupyter": {
     "source_hidden": true
    }
   },
   "outputs": [],
   "source": [
    "# (ignore this) imports and utility functions\n",
    "\n",
    "import re\n",
    "import json\n",
    "import toolkit\n",
    "\n",
    "from textwrap import dedent\n",
    "from IPython.display import clear_output, display, Markdown\n",
    "\n",
    "\n",
    "def render_markdown(text):\n",
    "    if text is None:\n",
    "        text = \"\"\n",
    "\n",
    "    pattern = r\"```thinking\\n(.*?)\\n```\"\n",
    "\n",
    "    def replacement(match):\n",
    "        content = match.group(1)\n",
    "        return f\"<blockquote>\\n{content}\\n</blockquote>\\n\\n\"\n",
    "\n",
    "    text = re.sub(pattern, replacement, text, flags=re.DOTALL)\n",
    "\n",
    "    text = re.sub(r\"```function_spec\\b\", \"```json\", text)\n",
    "    text = re.sub(r\"```function_call\\b\", \"```json\", text)\n",
    "    text = re.sub(r\"```function_output\\b\", \"```json\", text)\n",
    "\n",
    "    display(Markdown(text))\n",
    "\n",
    "\n",
    "def render_json(data):\n",
    "    return render_markdown(f\"```json\\n{json.dumps(data, indent=2)}\\n```\\n\")\n",
    "\n",
    "\n",
    "def render_live(stream):\n",
    "    response = \"\"\n",
    "    render_markdown(\"> Loading...\")\n",
    "\n",
    "    for chunk in stream:\n",
    "        response += chunk\n",
    "        clear_output(wait=True)\n",
    "        render_markdown(response)\n",
    "\n",
    "    return response"
   ]
  },
  {
   "cell_type": "code",
   "execution_count": 2,
   "id": "9a23a834-6e8a-47f4-ae7c-3d342266f538",
   "metadata": {},
   "outputs": [],
   "source": [
    "model = \"gemma3:27b\""
   ]
  },
  {
   "cell_type": "code",
   "execution_count": 3,
   "id": "83dd41e5-8f94-4194-ae57-47a85ab70dfe",
   "metadata": {},
   "outputs": [],
   "source": [
    "with open(\"schemas/function.schema.json\") as file:\n",
    "    schema = json.load(file)"
   ]
  },
  {
   "cell_type": "code",
   "execution_count": 4,
   "id": "07ba1e7f-25b9-4761-9ae1-233c3fe71005",
   "metadata": {},
   "outputs": [],
   "source": [
    "await toolkit.code.create_sandbox()"
   ]
  },
  {
   "cell_type": "code",
   "execution_count": 5,
   "id": "8128c16e-c668-46a3-aceb-9ec630ca4be8",
   "metadata": {},
   "outputs": [],
   "source": [
    "task = dedent(\"\"\"\n",
    "    Generate a simple python function that fetches the weather for any place using the wttr.in API.\n",
    "\n",
    "    The API is simple, just pass the name of the place like so:\n",
    "\n",
    "        \"http://wttr.in/<place>?format=(%l) %C and %t (feels %f) with winds at %w\"\n",
    "\n",
    "    The place can be a place name (Mumbai), an airport code (BOM), or an iconic location (Gateway of India).\n",
    "\n",
    "    Do not generate examples that use the function. Do not print the result, return it from the function. Do not\n",
    "    handle errors by printing or ignoring them, raise a custom exception with a user-friendly message instead.\n",
    "\"\"\")"
   ]
  },
  {
   "cell_type": "code",
   "execution_count": 6,
   "id": "82cceb3d-10ca-4e6d-9adb-af949858e171",
   "metadata": {},
   "outputs": [],
   "source": [
    "messages = [{\"role\": \"user\", \"content\": task}]"
   ]
  },
  {
   "cell_type": "code",
   "execution_count": 7,
   "id": "840c7aac-a8d5-4fb2-9593-acd595fb24cf",
   "metadata": {},
   "outputs": [
    {
     "data": {
      "text/markdown": [
       "```python\n",
       "import requests\n",
       "\n",
       "class WeatherFetchError(Exception):\n",
       "    \"\"\"Custom exception for weather fetching errors.\"\"\"\n",
       "    pass\n",
       "\n",
       "def get_weather(place):\n",
       "    \"\"\"\n",
       "    Fetches the weather for a given place using the wttr.in API.\n",
       "\n",
       "    Args:\n",
       "        place (str): The name of the place, airport code, or iconic location.\n",
       "\n",
       "    Returns:\n",
       "        str: The weather information as a string.\n",
       "\n",
       "    Raises:\n",
       "        WeatherFetchError: If the request to wttr.in fails.\n",
       "    \"\"\"\n",
       "    url = f\"http://wttr.in/{place}?format=(%l) %C and %t (feels %f) with winds at %w\"\n",
       "    try:\n",
       "        response = requests.get(url)\n",
       "        response.raise_for_status()  # Raise HTTPError for bad responses (4xx or 5xx)\n",
       "        return response.text\n",
       "    except requests.exceptions.RequestException as e:\n",
       "        raise WeatherFetchError(f\"Failed to fetch weather for {place}: {e}\")\n",
       "```"
      ],
      "text/plain": [
       "<IPython.core.display.Markdown object>"
      ]
     },
     "metadata": {},
     "output_type": "display_data"
    }
   ],
   "source": [
    "streaming_response = toolkit.model.get_response(model, messages)\n",
    "complete_response = render_live(streaming_response)\n",
    "messages.append({\"role\": \"assistant\", \"content\": complete_response})"
   ]
  },
  {
   "cell_type": "code",
   "execution_count": 8,
   "id": "5a13f74b-3c6c-47c8-9322-7b0b72ea87ea",
   "metadata": {},
   "outputs": [],
   "source": [
    "function = toolkit.functions.parse_funcs(complete_response)[0]"
   ]
  },
  {
   "cell_type": "code",
   "execution_count": 9,
   "id": "a2869868-bc98-4a66-9551-854ef4891e40",
   "metadata": {},
   "outputs": [],
   "source": [
    "task = dedent(f\"\"\"\n",
    "    Generate a function specification for the function you just generated. Make sure it is produced in a code block\n",
    "    with the language set to `function_spec` instead of `json`. Make sure to follow the below schema:\n",
    "\n",
    "    {json.dumps(schema, indent=2)}\n",
    "\"\"\")"
   ]
  },
  {
   "cell_type": "code",
   "execution_count": 10,
   "id": "aabe7274-4fe5-4a3e-8677-dcfdd8c6cd39",
   "metadata": {},
   "outputs": [],
   "source": [
    "messages.append({\"role\": \"user\", \"content\": task})"
   ]
  },
  {
   "cell_type": "code",
   "execution_count": 11,
   "id": "da3925f6-2274-457a-b64a-8e1a55c6f9d0",
   "metadata": {},
   "outputs": [
    {
     "data": {
      "text/markdown": [
       "```json\n",
       "{\n",
       "  \"name\": \"get_weather\",\n",
       "  \"description\": \"Fetches the current weather information for a specified location using the wttr.in API. The location can be a city name, airport code, or iconic landmark.\",\n",
       "  \"parameters\": {\n",
       "    \"type\": \"object\",\n",
       "    \"properties\": {\n",
       "      \"place\": {\n",
       "        \"type\": \"string\",\n",
       "        \"description\": \"The name of the place (e.g., London, JFK, Eiffel Tower) for which to retrieve the weather.\"\n",
       "      }\n",
       "    },\n",
       "    \"required\": [\n",
       "      \"place\"\n",
       "    ]\n",
       "  },\n",
       "  \"responses\": [\n",
       "    {\n",
       "      \"type\": \"string\",\n",
       "      \"description\": \"A string containing the formatted weather information, as provided by the wttr.in API.  For example:  \\\"London: Condition: Cloudy, Temperature: 12°C (Feels like 10°C), Wind: 15 km/h from the west\\\".\"\n",
       "    }\n",
       "  ],\n",
       "  \"errors\": [\n",
       "    {\n",
       "      \"name\": \"WeatherFetchError\",\n",
       "      \"description\": \"Raised when there is an error fetching the weather information, such as an invalid location or a network issue.\"\n",
       "    }\n",
       "  ],\n",
       "  \"examples\": []\n",
       "}\n",
       "```"
      ],
      "text/plain": [
       "<IPython.core.display.Markdown object>"
      ]
     },
     "metadata": {},
     "output_type": "display_data"
    }
   ],
   "source": [
    "streaming_response = toolkit.model.get_response(model, messages)\n",
    "complete_response = render_live(streaming_response)\n",
    "messages.append({\"role\": \"assistant\", \"content\": complete_response})"
   ]
  },
  {
   "cell_type": "code",
   "execution_count": 12,
   "id": "0b7524ae-1130-44b6-9f89-98818e7d139d",
   "metadata": {},
   "outputs": [],
   "source": [
    "specification = toolkit.functions.parse_specs(complete_response)[0]"
   ]
  },
  {
   "cell_type": "code",
   "execution_count": 13,
   "id": "ce458830-067d-4cf0-aac1-c09c5e9ce985",
   "metadata": {},
   "outputs": [],
   "source": [
    "function = await toolkit.code.define_function(specification[\"name\"], function)\n",
    "toolkit.functions.register(function, specification)"
   ]
  },
  {
   "cell_type": "code",
   "execution_count": 14,
   "id": "a0e06023-88b5-4002-a972-b838f7b36da5",
   "metadata": {},
   "outputs": [],
   "source": [
    "prompt = toolkit.prompts.function_calling(model)\n",
    "messages.append({\"role\": \"user\", \"content\": prompt})"
   ]
  },
  {
   "cell_type": "code",
   "execution_count": 15,
   "id": "b539c874-d0c4-41ef-9901-a02398e89ec5",
   "metadata": {},
   "outputs": [],
   "source": [
    "task = \"What's the weather in Pune and Singapore?\""
   ]
  },
  {
   "cell_type": "code",
   "execution_count": 16,
   "id": "33bfc1a3-d55e-4b23-b78a-e390e0bb4d99",
   "metadata": {},
   "outputs": [],
   "source": [
    "messages.append({\"role\": \"user\", \"content\": task})"
   ]
  },
  {
   "cell_type": "code",
   "execution_count": 17,
   "id": "ccdac298-40d3-4939-99fb-8b7a646f9c1e",
   "metadata": {},
   "outputs": [
    {
     "data": {
      "text/markdown": [
       "<blockquote>\n",
       "Okay, the user wants to know the weather in two locations: Pune and Singapore. I have a function `get_weather` that can fetch weather information for a given place. I can call this function twice, once for each location. These function calls are independent of each other, so I can make them in parallel. I will include two `function_call` blocks in my response, one for Pune and one for Singapore. I will adhere to the guidelines of only calling independent functions in parallel.\n",
       "</blockquote>\n",
       "\n",
       "\n",
       "\n",
       "```json\n",
       "{\n",
       "\t\"id\": \"pune_weather\",\n",
       "\t\"function\": \"get_weather\",\n",
       "\t\"parameters\": {\n",
       "\t\t\"place\": \"Pune\"\n",
       "\t}\n",
       "}\n",
       "```\n",
       "\n",
       "```json\n",
       "{\n",
       "\t\"id\": \"singapore_weather\",\n",
       "\t\"function\": \"get_weather\",\n",
       "\t\"parameters\": {\n",
       "\t\t\"place\": \"Singapore\"\n",
       "\t}\n",
       "}\n",
       "```"
      ],
      "text/plain": [
       "<IPython.core.display.Markdown object>"
      ]
     },
     "metadata": {},
     "output_type": "display_data"
    }
   ],
   "source": [
    "streaming_response = toolkit.model.get_response(model, messages)\n",
    "complete_response = render_live(streaming_response)\n",
    "messages.append({\"role\": \"assistant\", \"content\": complete_response})"
   ]
  },
  {
   "cell_type": "code",
   "execution_count": 18,
   "id": "55cea6a4-3ec1-443e-831b-c077dea2c2e6",
   "metadata": {},
   "outputs": [
    {
     "data": {
      "text/markdown": [
       "```json\n",
       "{\n",
       "    \"id\": \"pune_weather\",\n",
       "    \"result\": {\n",
       "        \"result\": \"(Pune) Patchy rain nearby and +24\\u00b0C (feels +26\\u00b0C) with winds at \\u219222km/h\"\n",
       "    }\n",
       "}\n",
       "```\n",
       "\n",
       "```json\n",
       "{\n",
       "    \"id\": \"singapore_weather\",\n",
       "    \"result\": {\n",
       "        \"result\": \"(Singapore) Partly cloudy and +27\\u00b0C (feels +30\\u00b0C) with winds at \\u21909km/h\"\n",
       "    }\n",
       "}\n",
       "```\n"
      ],
      "text/plain": [
       "<IPython.core.display.Markdown object>"
      ]
     },
     "metadata": {},
     "output_type": "display_data"
    }
   ],
   "source": [
    "calls = toolkit.functions.parse_calls(complete_response)\n",
    "outputs = await toolkit.functions.execute_calls(calls)\n",
    "render_markdown(outputs)"
   ]
  },
  {
   "cell_type": "code",
   "execution_count": 19,
   "id": "08464945-cfb5-46f5-8157-3fba99aeab77",
   "metadata": {},
   "outputs": [],
   "source": [
    "messages.append({\"role\": \"user\", \"content\": outputs})"
   ]
  },
  {
   "cell_type": "code",
   "execution_count": 20,
   "id": "0128ac50-2740-4757-a525-ff53e05b8bcd",
   "metadata": {},
   "outputs": [
    {
     "data": {
      "text/markdown": [
       "<blockquote>\n",
       "I received the weather information for both Pune and Singapore from the `get_weather` function. Now I can present this information to the user in a clear and concise manner. I have followed the guidelines by only using the information received from the function output and presenting it without any assumptions or modifications.\n",
       "</blockquote>\n",
       "\n",
       "\n",
       "\n",
       "The weather in Pune is patchy rain with a temperature of 24°C (feels like 26°C) and winds at 22km/h.\n",
       "\n",
       "The weather in Singapore is partly cloudy with a temperature of 27°C (feels like 30°C) and winds at 9km/h."
      ],
      "text/plain": [
       "<IPython.core.display.Markdown object>"
      ]
     },
     "metadata": {},
     "output_type": "display_data"
    }
   ],
   "source": [
    "streaming_response = toolkit.model.get_response(model, messages)\n",
    "complete_response = render_live(streaming_response)\n",
    "messages.append({\"role\": \"assistant\", \"content\": complete_response})"
   ]
  }
 ],
 "metadata": {
  "kernelspec": {
   "display_name": "Python 3 (ipykernel)",
   "language": "python",
   "name": "python3"
  },
  "language_info": {
   "codemirror_mode": {
    "name": "ipython",
    "version": 3
   },
   "file_extension": ".py",
   "mimetype": "text/x-python",
   "name": "python",
   "nbconvert_exporter": "python",
   "pygments_lexer": "ipython3",
   "version": "3.13.3"
  }
 },
 "nbformat": 4,
 "nbformat_minor": 5
}
