{
 "cells": [
  {
   "cell_type": "code",
   "execution_count": 1,
   "id": "23f97568-6d55-4c38-9a84-b667520780a0",
   "metadata": {},
   "outputs": [],
   "source": [
    "# (ignore this) imports and utility functions\n",
    "\n",
    "import re\n",
    "import json\n",
    "import toolkit\n",
    "\n",
    "from textwrap import dedent\n",
    "from IPython.display import clear_output, display, Markdown\n",
    "\n",
    "\n",
    "def render_markdown(text):\n",
    "    if text is None:\n",
    "        text = \"\"\n",
    "\n",
    "    pattern = r\"```thinking\\n(.*?)\\n```\"\n",
    "\n",
    "    def replacement(match):\n",
    "        content = match.group(1)\n",
    "        return f\"<blockquote>\\n{content}\\n</blockquote>\\n\\n\"\n",
    "\n",
    "    text = re.sub(pattern, replacement, text, flags=re.DOTALL)\n",
    "\n",
    "    text = re.sub(r\"```function_spec\\b\", \"```json\", text)\n",
    "    text = re.sub(r\"```function_call\\b\", \"```json\", text)\n",
    "    text = re.sub(r\"```function_output\\b\", \"```json\", text)\n",
    "\n",
    "    display(Markdown(text))\n",
    "\n",
    "\n",
    "def render_json(data):\n",
    "    return render_markdown(f\"```json\\n{json.dumps(data, indent=2)}\\n```\\n\")\n",
    "\n",
    "\n",
    "def render_live(stream):\n",
    "    response = \"\"\n",
    "    render_markdown(\"> Loading...\")\n",
    "\n",
    "    for chunk in stream:\n",
    "        response += chunk\n",
    "        clear_output(wait=True)\n",
    "        render_markdown(response)\n",
    "\n",
    "    return response"
   ]
  },
  {
   "cell_type": "code",
   "execution_count": 2,
   "id": "9a23a834-6e8a-47f4-ae7c-3d342266f538",
   "metadata": {},
   "outputs": [],
   "source": [
    "model = \"gemma3:27b\""
   ]
  },
  {
   "cell_type": "code",
   "execution_count": 3,
   "id": "07ba1e7f-25b9-4761-9ae1-233c3fe71005",
   "metadata": {},
   "outputs": [],
   "source": [
    "await toolkit.code.create_sandbox()"
   ]
  },
  {
   "cell_type": "code",
   "execution_count": 4,
   "id": "09b2415d-a7f9-4675-9826-b94d43647f26",
   "metadata": {},
   "outputs": [],
   "source": [
    "prompt = toolkit.prompts.function_writing(model)\n",
    "task = dedent(\"\"\"\n",
    "    I'd like to be able to ask you for the weather. Could you please write code to use the wttr.in API to fetch the weather for me\n",
    "    when I need it? Just make a request to this URL: 'http://wttr.in/<place>?format=(%l) %C and %t (feels %f) with winds at %w'.\n",
    "\"\"\")"
   ]
  },
  {
   "cell_type": "code",
   "execution_count": 5,
   "id": "82cceb3d-10ca-4e6d-9adb-af949858e171",
   "metadata": {},
   "outputs": [],
   "source": [
    "messages = [{\"role\": \"user\", \"content\": prompt}, {\"role\": \"user\", \"content\": task}]"
   ]
  },
  {
   "cell_type": "code",
   "execution_count": 6,
   "id": "840c7aac-a8d5-4fb2-9593-acd595fb24cf",
   "metadata": {},
   "outputs": [
    {
     "data": {
      "text/markdown": [
       "```python\n",
       "import requests\n",
       "\n",
       "class WeatherError(Exception):\n",
       "    \"\"\"Raised when there is an error fetching weather data.\"\"\"\n",
       "    pass\n",
       "\n",
       "def get_weather(place):\n",
       "    \"\"\"\n",
       "    Fetches the current weather for a given location using the wttr.in API.\n",
       "\n",
       "    Args:\n",
       "        place (str): The location for which to fetch the weather.\n",
       "\n",
       "    Returns:\n",
       "        str: The weather description.\n",
       "\n",
       "    Raises:\n",
       "        WeatherError: If the request to wttr.in fails.\n",
       "    \"\"\"\n",
       "    url = f\"http://wttr.in/{place}?format=(%l) %C and %t (feels %f) with winds at %w\"\n",
       "    try:\n",
       "        response = requests.get(url)\n",
       "        response.raise_for_status()  # Raise HTTPError for bad responses (4xx or 5xx)\n",
       "        return response.text\n",
       "    except requests.exceptions.RequestException as e:\n",
       "        raise WeatherError(f\"Error fetching weather for {place}: {e}\") from e\n",
       "```\n"
      ],
      "text/plain": [
       "<IPython.core.display.Markdown object>"
      ]
     },
     "metadata": {},
     "output_type": "display_data"
    }
   ],
   "source": [
    "streaming_response = toolkit.model.get_response(model, messages)\n",
    "function_response = render_live(streaming_response)\n",
    "messages.append({\"role\": \"assistant\", \"content\": function_response})"
   ]
  },
  {
   "cell_type": "code",
   "execution_count": 7,
   "id": "2fa22d37-6add-435d-9a8f-d8f153d82852",
   "metadata": {},
   "outputs": [],
   "source": [
    "task = \"Generate a function specification for the code you just wrote.\""
   ]
  },
  {
   "cell_type": "code",
   "execution_count": 8,
   "id": "97167f36-fe5e-4fc8-a2eb-d477cad069b7",
   "metadata": {},
   "outputs": [],
   "source": [
    "messages.append({\"role\": \"user\", \"content\": task})"
   ]
  },
  {
   "cell_type": "code",
   "execution_count": 9,
   "id": "94fe4475-7cf9-42ee-ae37-cd4da4d07390",
   "metadata": {},
   "outputs": [
    {
     "data": {
      "text/markdown": [
       "```json\n",
       "{\n",
       "  \"name\": \"get_weather\",\n",
       "  \"description\": \"Fetches the current weather for a given location using the wttr.in API. Returns a string containing the weather description.\",\n",
       "  \"parameters\": {\n",
       "    \"type\": \"object\",\n",
       "    \"properties\": {\n",
       "      \"place\": {\n",
       "        \"type\": \"string\",\n",
       "        \"description\": \"The location for which to fetch the weather (e.g., 'London', 'New York').\"\n",
       "      }\n",
       "    },\n",
       "    \"required\": [\"place\"]\n",
       "  },\n",
       "  \"responses\": [\n",
       "    {\n",
       "      \"type\": \"string\",\n",
       "      \"description\": \"A string containing the weather description for the given location.\"\n",
       "    }\n",
       "  ],\n",
       "  \"errors\": [\n",
       "    {\n",
       "      \"name\": \"WeatherError\",\n",
       "      \"description\": \"Raised when there is an error fetching weather data from the wttr.in API (e.g., network error, invalid location).\"\n",
       "    }\n",
       "  ]\n",
       "}\n",
       "```"
      ],
      "text/plain": [
       "<IPython.core.display.Markdown object>"
      ]
     },
     "metadata": {},
     "output_type": "display_data"
    }
   ],
   "source": [
    "streaming_response = toolkit.model.get_response(model, messages)\n",
    "specification_response = render_live(streaming_response)\n",
    "messages.append({\"role\": \"assistant\", \"content\": specification_response})"
   ]
  },
  {
   "cell_type": "code",
   "execution_count": 10,
   "id": "5a13f74b-3c6c-47c8-9322-7b0b72ea87ea",
   "metadata": {},
   "outputs": [],
   "source": [
    "function = toolkit.functions.parse_funcs(function_response)[0]\n",
    "specification = toolkit.functions.parse_specs(specification_response)[0]\n",
    "\n",
    "function = await toolkit.code.define_function(specification[\"name\"], function)\n",
    "toolkit.functions.register(function, specification)"
   ]
  },
  {
   "cell_type": "code",
   "execution_count": 11,
   "id": "a0e06023-88b5-4002-a972-b838f7b36da5",
   "metadata": {},
   "outputs": [],
   "source": [
    "prompt = toolkit.prompts.function_calling(model)\n",
    "task = \"What's the weather in Pune\""
   ]
  },
  {
   "cell_type": "code",
   "execution_count": 12,
   "id": "33bfc1a3-d55e-4b23-b78a-e390e0bb4d99",
   "metadata": {},
   "outputs": [],
   "source": [
    "messages.append({\"role\": \"user\", \"content\": prompt})\n",
    "messages.append({\"role\": \"user\", \"content\": task})"
   ]
  },
  {
   "cell_type": "code",
   "execution_count": 13,
   "id": "ccdac298-40d3-4939-99fb-8b7a646f9c1e",
   "metadata": {},
   "outputs": [
    {
     "data": {
      "text/markdown": [
       "<blockquote>\n",
       "Okay, the user wants to know the weather in Pune. I have a `get_weather` function that can fetch this information. I will call this function with the location \"Pune\" and return the result to the user.\n",
       "\n",
       "Guidelines followed: Identified the user's need, identified the relevant function, and prepared to call it.\n",
       "Guidelines not followed: None.\n",
       "</blockquote>\n",
       "\n",
       "\n",
       "\n",
       "```json\n",
       "{\n",
       "\t\"id\": \"1\",\n",
       "\t\"function\": \"get_weather\",\n",
       "\t\"parameters\": {\n",
       "\t\t\"place\": \"Pune\"\n",
       "\t}\n",
       "}\n",
       "```"
      ],
      "text/plain": [
       "<IPython.core.display.Markdown object>"
      ]
     },
     "metadata": {},
     "output_type": "display_data"
    }
   ],
   "source": [
    "streaming_response = toolkit.model.get_response(model, messages)\n",
    "complete_response = render_live(streaming_response)\n",
    "messages.append({\"role\": \"assistant\", \"content\": complete_response})"
   ]
  },
  {
   "cell_type": "code",
   "execution_count": 14,
   "id": "55cea6a4-3ec1-443e-831b-c077dea2c2e6",
   "metadata": {},
   "outputs": [
    {
     "data": {
      "text/markdown": [
       "```json\n",
       "{\n",
       "    \"id\": \"1\",\n",
       "    \"result\": \"(Pune) Patchy rain nearby and +26\\u00b0C (feels +28\\u00b0C) with winds at \\u219223km/h\"\n",
       "}\n",
       "```\n"
      ],
      "text/plain": [
       "<IPython.core.display.Markdown object>"
      ]
     },
     "metadata": {},
     "output_type": "display_data"
    }
   ],
   "source": [
    "calls = toolkit.functions.parse_calls(complete_response)\n",
    "outputs = await toolkit.functions.execute_calls(calls)\n",
    "render_markdown(outputs)"
   ]
  },
  {
   "cell_type": "code",
   "execution_count": 15,
   "id": "08464945-cfb5-46f5-8157-3fba99aeab77",
   "metadata": {},
   "outputs": [],
   "source": [
    "messages.append({\"role\": \"user\", \"content\": outputs})"
   ]
  },
  {
   "cell_type": "code",
   "execution_count": 16,
   "id": "0128ac50-2740-4757-a525-ff53e05b8bcd",
   "metadata": {},
   "outputs": [
    {
     "data": {
      "text/markdown": [
       "The weather in Pune is patchy rain and 26°C (feels like 28°C) with winds at 23km/h. \n",
       "\n",
       "<blockquote>\n",
       "I received the function output with the weather information for Pune. I am now presenting this information to the user in a human-readable format.\n",
       "\n",
       "Guidelines followed: I successfully processed the function output and presented the result to the user.\n",
       "Guidelines not followed: None.\n",
       "</blockquote>\n",
       "\n"
      ],
      "text/plain": [
       "<IPython.core.display.Markdown object>"
      ]
     },
     "metadata": {},
     "output_type": "display_data"
    }
   ],
   "source": [
    "streaming_response = toolkit.model.get_response(model, messages)\n",
    "complete_response = render_live(streaming_response)\n",
    "messages.append({\"role\": \"assistant\", \"content\": complete_response})"
   ]
  },
  {
   "cell_type": "code",
   "execution_count": 17,
   "id": "f75905ea-59d7-4ce0-993b-1c7b8f00875b",
   "metadata": {},
   "outputs": [],
   "source": [
    "await toolkit.code.cleanup_sandbox()"
   ]
  },
  {
   "cell_type": "code",
   "execution_count": null,
   "id": "d6b1aac3-33e8-4a89-897d-491e6c5897db",
   "metadata": {},
   "outputs": [],
   "source": []
  },
  {
   "cell_type": "code",
   "execution_count": null,
   "id": "f920845e-3711-44dd-82d2-8cbc567a23a7",
   "metadata": {},
   "outputs": [],
   "source": []
  }
 ],
 "metadata": {
  "kernelspec": {
   "display_name": "Python 3 (ipykernel)",
   "language": "python",
   "name": "python3"
  },
  "language_info": {
   "codemirror_mode": {
    "name": "ipython",
    "version": 3
   },
   "file_extension": ".py",
   "mimetype": "text/x-python",
   "name": "python",
   "nbconvert_exporter": "python",
   "pygments_lexer": "ipython3",
   "version": "3.13.3"
  }
 },
 "nbformat": 4,
 "nbformat_minor": 5
}
