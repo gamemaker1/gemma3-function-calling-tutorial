{
 "cells": [
  {
   "cell_type": "markdown",
   "id": "5a02d479-e41b-46fe-bb9b-04b92fa6fecd",
   "metadata": {},
   "source": [
    "# Offline, Multimodal Function Calling with Gemma: A Tutorial\n",
    "\n",
    "Function calling is a powerful construct that allows large language models like Gemma to use tools and interact with external APIs. It empowers Gemma to go beyond just generating text and actually do real world tasks for you, like checking the weather, booking a flight, keeping track of your expenses, and much much more! Combined with Gemma's multimodal capabilities and offline nature, function calling opens up a lot of amazing possibilities.\n",
    "\n",
    "This tutorial will introduce you to the concept of function calling, and how to make use of it with Gemma 3's multimodal capabilities running offline on your computer. Here's a peak of a conversation you'll be having by the end of this tutorial:\n",
    "\n",
    "<em>user</em>\n",
    "> [[image of bill](media/bill.jpg)]\n",
    "> \n",
    "> Add this to my expenses, and let me know if I'm going over my food budget of 1000 this month.\n",
    "\n",
    "<em>model</em>\n",
    "> You've spent a total of 1278.5 on food this month, which exceeds your budget of 1000 by 278.5. It looks like that dinner at TSC put you over the limit!"
   ]
  },
  {
   "cell_type": "markdown",
   "id": "a2239929-d86a-4cf5-b6f4-7b10d091d480",
   "metadata": {},
   "source": [
    "### Introduction\n",
    "\n",
    "Let's take an example to work with for this tutorial. Say you've already written some code for a simple expense tracker in Python. Your code has two functions:\n",
    "\n",
    "- `make_expense_entry` (to record expenses)\n",
    "- `get_expense_entries` (to filter expenses)\n",
    "\n",
    "Normally, using this code would require building a separate application to handle user input (things like the amount, category, and date of each transaction) and display data (like the stored transactions).\n",
    "\n",
    "But what if we could make this process much easier? What if you could simply send a picture of a bill to Gemma and have it automatically add the expense to your tracker? Or ask Gemma to summarize your spending and help you stay within a monthly budget?\n",
    "\n",
    "That's exactly what we'll explore today - using Gemma to discover and call your existing Python functions, turning natural language requests into automated actions. We will:\n",
    "\n",
    "1. Install and setup the necessary tools\n",
    "2. Write the Python functions for our simple expense tracker\n",
    "3. Write specifications for our functions so the model can discover them\n",
    "4. Select and download a multimodal Gemma model\n",
    "5. Instruct the model on how to call our functions\n",
    "6. Bring it all together and use the now intelligent expense tracker\n",
    "\n",
    "Let's start with the first step - installing the necessary tools!"
   ]
  },
  {
   "cell_type": "markdown",
   "id": "382e8621-b8f4-47c5-80ab-2f86965dec63",
   "metadata": {},
   "source": [
    "### Installating and setting up tools \n",
    "\n",
    "This tutorial assumes you have basic knowledge of Python. In addition, this tutorial uses the following tools:\n",
    "\n",
    "- [`ollama`](https://ollama.com) to run the models locally on your computer\n",
    "- [`uv`](https://docs.astral.sh/uv/getting-started/) to run python code and manage dependencies.\n",
    "\n",
    "If you haven't already, please follow this links above to get them set up.\n",
    "\n",
    "First, let's make sure everything is installed correctly. Open your terminal and check the versions:\n",
    "\n",
    "```bash\n",
    "uv --version\n",
    "ollama --version\n",
    "```\n",
    "\n",
    "Next, start `ollama` by running the following command:\n",
    "\n",
    "```bash\n",
    "ollama serve\n",
    "```\n",
    "\n",
    "In another terminal, clone this repository and open the notebook by running:\n",
    "\n",
    "```bash\n",
    "git clone https://github.com/gamemaker1/gemma3-function-calling-tutorial.git\n",
    "cd gemma3-function-calling-tutorial/\n",
    "uv run --with jupyter jupyter lab tutorial.ipynb\n",
    "```\n",
    "\n",
    "This should open this tutorial notebook in your browser so you can follow along!"
   ]
  },
  {
   "cell_type": "code",
   "execution_count": 1,
   "id": "397d2687-2177-48ae-a53c-4a3729ccb716",
   "metadata": {
    "jupyter": {
     "source_hidden": true
    }
   },
   "outputs": [],
   "source": [
    "# (ignore) this code imports the toolkit and defines functions for rendering markdown in notebooks.\n",
    "\n",
    "import re\n",
    "import json\n",
    "import toolkit\n",
    "\n",
    "from hashlib import sha256\n",
    "from datetime import datetime\n",
    "\n",
    "from IPython.display import clear_output, display, Markdown\n",
    "\n",
    "\n",
    "def render_markdown(text):\n",
    "    pattern = r\"```thinking\\n(.*?)\\n```\"\n",
    "\n",
    "    def replacement(match):\n",
    "        content = match.group(1)\n",
    "        return f\"<blockquote>\\n{content}\\n</blockquote>\\n\\n\"\n",
    "\n",
    "    text = re.sub(pattern, replacement, text, flags=re.DOTALL)\n",
    "\n",
    "    text = re.sub(r\"```function_spec\\b\", \"```json\", text)\n",
    "    text = re.sub(r\"```function_call\\b\", \"```json\", text)\n",
    "    text = re.sub(r\"```function_output\\b\", \"```json\", text)\n",
    "\n",
    "    display(Markdown(text))\n",
    "\n",
    "\n",
    "def render_json(data):\n",
    "    return render_markdown(f\"```json\\n{json.dumps(data, indent=2)}\\n```\\n\")\n",
    "\n",
    "\n",
    "def render_live(stream):\n",
    "    response = \"\"\n",
    "    render_markdown(\"> Loading...\")\n",
    "\n",
    "    for chunk in stream:\n",
    "        response += chunk\n",
    "        clear_output(wait=True)\n",
    "        render_markdown(response)\n",
    "\n",
    "    return response"
   ]
  },
  {
   "cell_type": "markdown",
   "id": "efae51e4-6709-4cfd-86b7-00664d2b3fd5",
   "metadata": {},
   "source": [
    "> You'll notice our code uses a helper library called `toolkit`. This is not a standard Python library but a custom set of functions we've written specifically for this tutorial. It's included in the repository you just cloned and is designed to simplify the process of communicating with the model, so we can focus on the core concepts of function calling."
   ]
  },
  {
   "cell_type": "markdown",
   "id": "31e2cc7c-f7ac-4d6e-8c17-118db8b3fc4e",
   "metadata": {},
   "source": [
    "### Writing our expense tracking functions\n",
    "\n",
    "Now that we have everything setup, let us quickly write the code for our tiny expense tracker :)"
   ]
  },
  {
   "cell_type": "code",
   "execution_count": 2,
   "id": "7863582d-b5b3-48d7-a991-ec798a47e093",
   "metadata": {
    "jupyter": {
     "source_hidden": true
    }
   },
   "outputs": [],
   "source": [
    "# (click to open) the code for our expense tracking functions.\n",
    "\n",
    "transactions = []\n",
    "\n",
    "\n",
    "class BadParameters(Exception):\n",
    "    pass\n",
    "\n",
    "\n",
    "class NoResults(Exception):\n",
    "    pass\n",
    "\n",
    "\n",
    "def make_expense_entry(\n",
    "    amount: float, category: str, date: str, notes: str = None\n",
    ") -> str:\n",
    "    global transactions\n",
    "\n",
    "    try:\n",
    "        datetime.strptime(date, \"%Y-%m-%d\")\n",
    "    except ValueError:\n",
    "        raise BadParameters(\"The `date` must be in yyyy-mm-dd format.\")\n",
    "\n",
    "    entry = {\n",
    "        \"amount\": amount,\n",
    "        \"category\": category,\n",
    "        \"date\": date,\n",
    "        \"notes\": notes,\n",
    "        \"created\": datetime.now().isoformat(),\n",
    "    }\n",
    "\n",
    "    identifier = sha256(str.encode(json.dumps(entry))).hexdigest()[:8]\n",
    "    entry[\"id\"] = identifier\n",
    "\n",
    "    transactions += [entry]\n",
    "\n",
    "    return identifier\n",
    "\n",
    "\n",
    "def get_expense_entries(\n",
    "    category: str = None, from_date: str = None, to_date: str = None\n",
    ") -> dict:\n",
    "    global transactions\n",
    "\n",
    "    filtered = []\n",
    "    for transaction in transactions:\n",
    "        if category and transaction[\"category\"].lower() != category.lower():\n",
    "            continue\n",
    "        if from_date and transaction[\"date\"] < from_date:\n",
    "            continue\n",
    "        if to_date and transaction[\"date\"] > to_date:\n",
    "            continue\n",
    "        filtered.append(transaction)\n",
    "\n",
    "    if not filtered:\n",
    "        raise NoResults(\"The search yielded no results with the given filters.\")\n",
    "\n",
    "    return {\n",
    "        \"transactions\": filtered,\n",
    "        \"count\": len(filtered),\n",
    "        \"total\": sum(x[\"amount\"] for x in filtered),\n",
    "    }"
   ]
  },
  {
   "cell_type": "markdown",
   "id": "9e3d9c8a-9131-4e29-8f49-1110e3a2385c",
   "metadata": {},
   "source": [
    "Let's test it out:"
   ]
  },
  {
   "cell_type": "code",
   "execution_count": 3,
   "id": "c623d852-726e-4dc1-95af-b264eabe783a",
   "metadata": {
    "scrolled": true
   },
   "outputs": [
    {
     "data": {
      "text/markdown": [
       "```json\n",
       "{\n",
       "  \"transactions\": [\n",
       "    {\n",
       "      \"amount\": 78,\n",
       "      \"category\": \"travel\",\n",
       "      \"date\": \"2025-05-19\",\n",
       "      \"notes\": null,\n",
       "      \"created\": \"2025-06-20T17:02:19.603784\",\n",
       "      \"id\": \"0b7fe740\"\n",
       "    },\n",
       "    {\n",
       "      \"amount\": 231.5,\n",
       "      \"category\": \"food\",\n",
       "      \"date\": \"2025-05-19\",\n",
       "      \"notes\": null,\n",
       "      \"created\": \"2025-06-20T17:02:19.603926\",\n",
       "      \"id\": \"ba6c9c0e\"\n",
       "    },\n",
       "    {\n",
       "      \"amount\": 459,\n",
       "      \"category\": \"food\",\n",
       "      \"date\": \"2025-05-20\",\n",
       "      \"notes\": null,\n",
       "      \"created\": \"2025-06-20T17:02:19.604021\",\n",
       "      \"id\": \"0be11f7b\"\n",
       "    },\n",
       "    {\n",
       "      \"amount\": 917,\n",
       "      \"category\": \"clothing\",\n",
       "      \"date\": \"2025-05-20\",\n",
       "      \"notes\": null,\n",
       "      \"created\": \"2025-06-20T17:02:19.604100\",\n",
       "      \"id\": \"1b0ec625\"\n",
       "    }\n",
       "  ],\n",
       "  \"count\": 4,\n",
       "  \"total\": 1685.5\n",
       "}\n",
       "```\n"
      ],
      "text/plain": [
       "<IPython.core.display.Markdown object>"
      ]
     },
     "metadata": {},
     "output_type": "display_data"
    }
   ],
   "source": [
    "make_expense_entry(78, \"travel\", \"2025-05-19\")\n",
    "make_expense_entry(231.5, \"food\", \"2025-05-19\")\n",
    "make_expense_entry(459, \"food\", \"2025-05-20\")\n",
    "make_expense_entry(917, \"clothing\", \"2025-05-20\")\n",
    "\n",
    "render_json(get_expense_entries())"
   ]
  },
  {
   "cell_type": "markdown",
   "id": "25cd98c6-96f8-4feb-8efe-86822a8c6260",
   "metadata": {},
   "source": [
    "It works! Our expenses are being stored whenever the `make_expense_entry` function is called, and a list of expense entries is returned whenever the `get_expense_entries` function is called.\n",
    "\n",
    "> Normally, using this code would require building a separate application to handle user input (things like the amount, category, and date of each transaction) and display data (like the stored transactions).\n",
    "\n",
    "Now, instead of doing this...\n",
    "\n",
    "> But what if we could make this process much easier? What if you could simply send a picture of a bill to Gemma and have it automatically add the expense to your tracker? Or ask Gemma to summarize your spending and help you stay within a monthly budget?\n",
    "\n",
    "...let's start doing this!"
   ]
  },
  {
   "cell_type": "markdown",
   "id": "4dc1648f-82a1-4f1e-9245-95e2ffa500a8",
   "metadata": {},
   "source": [
    "### Writing specifications to make our functions discoverable\n",
    "\n",
    "For a model like Gemma to use our functions, it needs to know that they exist. More importantly, it needs to understand what each function does, what parameters it accepts, the possible outputs it produces, and the possible errors it throws. The model needs a 'manual' for each function.\n",
    "\n",
    "For LLMs, this manual comes in the form of a function specification. It is a structured JSON object written in accordance with [this schema](schemas/function.schema.json) that tells the model everything it needs to know.\n",
    "\n",
    "For our two expense tracker functions, the specifications looks like this:"
   ]
  },
  {
   "cell_type": "code",
   "execution_count": 4,
   "id": "e3ba2f06-212f-4b04-ab27-7815bb877694",
   "metadata": {
    "jupyter": {
     "source_hidden": true
    }
   },
   "outputs": [],
   "source": [
    "# (click to open) the specifications for our two functions.\n",
    "\n",
    "specifications = {\n",
    "    \"make_expense_entry\": {\n",
    "        \"name\": \"make_expense_entry\",\n",
    "        \"description\": \"Add an entry for expenditure of a certain amount on the given date to the specified category of the user's personal accounting records.\",\n",
    "        \"parameters\": {\n",
    "            \"type\": \"object\",\n",
    "            \"properties\": {\n",
    "                \"amount\": {\n",
    "                    \"type\": \"float\",\n",
    "                    \"description\": \"The amount spent by the user.\",\n",
    "                },\n",
    "                \"category\": {\n",
    "                    \"type\": \"string\",\n",
    "                    \"enum\": [\n",
    "                        \"food\",\n",
    "                        \"entertainment\",\n",
    "                        \"clothing\",\n",
    "                        \"travel\",\n",
    "                        \"utilities\",\n",
    "                        \"other\",\n",
    "                    ],\n",
    "                    \"description\": \"The category the expense falls under.\",\n",
    "                },\n",
    "                \"date\": {\n",
    "                    \"type\": \"string\",\n",
    "                    \"format\": \"yyyy-mm-dd\",\n",
    "                    \"description\": \"The date of the expense\",\n",
    "                },\n",
    "                \"notes\": {\n",
    "                    \"type\": \"string\",\n",
    "                    \"description\": \"A short note about the expense, that will remind the user of it if needed.\",\n",
    "                },\n",
    "            },\n",
    "            \"required\": [\"amount\", \"category\", \"date\"],\n",
    "        },\n",
    "        \"responses\": [\n",
    "            {\"type\": \"string\", \"description\": \"The ID of the created expense entry.\"}\n",
    "        ],\n",
    "        \"errors\": [\n",
    "            {\"name\": \"BadEntry\", \"description\": \"The category or date are invalid.\"}\n",
    "        ],\n",
    "    },\n",
    "    \"get_expense_entries\": {\n",
    "        \"name\": \"get_expense_entries\",\n",
    "        \"description\": \"Fetches expense entries from the user's personal accounting records, filtering by category and date. To fetch expense entries for multiple categories at the same time, call this function in parallel.\",\n",
    "        \"parameters\": {\n",
    "            \"type\": \"object\",\n",
    "            \"properties\": {\n",
    "                \"category\": {\n",
    "                    \"type\": \"string\",\n",
    "                    \"enum\": [\n",
    "                        \"food\",\n",
    "                        \"entertainment\",\n",
    "                        \"clothing\",\n",
    "                        \"travel\",\n",
    "                        \"utilities\",\n",
    "                        \"other\",\n",
    "                    ],\n",
    "                    \"description\": \"The category the expense falls under, if filtering by category.\",\n",
    "                },\n",
    "                \"from_date\": {\n",
    "                    \"type\": \"string\",\n",
    "                    \"format\": \"yyyy-mm-dd\",\n",
    "                    \"description\": \"If filtering by date, this is the start of the search period (inclusive).\",\n",
    "                },\n",
    "                \"to_date\": {\n",
    "                    \"type\": \"string\",\n",
    "                    \"format\": \"yyyy-mm-dd\",\n",
    "                    \"description\": \"If filtering by date, this is the end of the search period (inclusive).\",\n",
    "                },\n",
    "            },\n",
    "            \"required\": [],\n",
    "        },\n",
    "        \"responses\": [\n",
    "            {\n",
    "                \"type\": \"object\",\n",
    "                \"properties\": {\n",
    "                    \"entries\": {\n",
    "                        \"type\": \"array\",\n",
    "                        \"items\": {\n",
    "                            \"type\": \"object\",\n",
    "                            \"properties\": {\n",
    "                                \"amount\": {\n",
    "                                    \"type\": \"float\",\n",
    "                                    \"description\": \"The amount spent by the user.\",\n",
    "                                },\n",
    "                                \"category\": {\n",
    "                                    \"type\": \"string\",\n",
    "                                    \"enum\": [\n",
    "                                        \"food\",\n",
    "                                        \"entertainment\",\n",
    "                                        \"clothing\",\n",
    "                                        \"travel\",\n",
    "                                        \"utilities\",\n",
    "                                        \"other\",\n",
    "                                    ],\n",
    "                                    \"description\": \"The category the expense falls under.\",\n",
    "                                },\n",
    "                                \"notes\": {\n",
    "                                    \"type\": \"string\",\n",
    "                                    \"description\": \"A short note about the expense, that will remind the user of it if needed.\",\n",
    "                                },\n",
    "                                \"date\": {\n",
    "                                    \"type\": \"string\",\n",
    "                                    \"format\": \"yyyy-mm-dd\",\n",
    "                                    \"description\": \"The date of the expense\",\n",
    "                                },\n",
    "                                \"created\": {\n",
    "                                    \"type\": \"string\",\n",
    "                                    \"format\": \"iso8601\",\n",
    "                                    \"description\": \"The timestamp recording when the entry was made.\",\n",
    "                                },\n",
    "                                \"id\": {\n",
    "                                    \"type\": \"string\",\n",
    "                                    \"description\": \"The ID of the expense entry.\",\n",
    "                                },\n",
    "                            },\n",
    "                        },\n",
    "                    },\n",
    "                    \"count\": {\n",
    "                        \"type\": \"int\",\n",
    "                        \"description\": \"The number of transactions returned.\",\n",
    "                    },\n",
    "                    \"total\": {\n",
    "                        \"type\": \"float\",\n",
    "                        \"description\": \"The sum total of the amount spent in the transactions returned.\",\n",
    "                    },\n",
    "                },\n",
    "            }\n",
    "        ],\n",
    "        \"errors\": [\n",
    "            {\n",
    "                \"name\": \"BadEntry\",\n",
    "                \"description\": \"The category, from date or to date are invalid.\",\n",
    "            },\n",
    "            {\n",
    "                \"name\": \"NoResults\",\n",
    "                \"description\": \"The search yielded no results with the given filters.\",\n",
    "            },\n",
    "        ],\n",
    "    },\n",
    "}"
   ]
  },
  {
   "cell_type": "markdown",
   "id": "6cdd5ba1-16a1-44a7-8e09-035e599b8682",
   "metadata": {},
   "source": [
    "Now we just need to 'register' our Python functions and their corresponding JSON 'manuals' with our toolkit. This lets our helper library know which functions are available to be called."
   ]
  },
  {
   "cell_type": "code",
   "execution_count": 5,
   "id": "8f9a96b5-e379-4e7b-b677-036bfe6f0450",
   "metadata": {},
   "outputs": [],
   "source": [
    "toolkit.functions.register(make_expense_entry, specifications[\"make_expense_entry\"])\n",
    "toolkit.functions.register(get_expense_entries, specifications[\"get_expense_entries\"])"
   ]
  },
  {
   "cell_type": "markdown",
   "id": "971413bb-94ee-4549-870a-8f06bb061415",
   "metadata": {},
   "source": [
    "To let the model know what tools it can use, we provide it with these specifications in a special format, wrapped in code blocks labeled function_spec. Our toolkit has a helper function that compiles all our registered function specs into the right format for the model:"
   ]
  },
  {
   "cell_type": "code",
   "execution_count": 6,
   "id": "b935a83e-529d-4da5-9b13-39dedb7268ff",
   "metadata": {
    "scrolled": true
   },
   "outputs": [
    {
     "data": {
      "text/markdown": [
       "```json\n",
       "{\n",
       "  \"name\": \"make_expense_entry\",\n",
       "  \"description\": \"Add an entry for expenditure of a certain amount on the given date to the specified category of the user's personal accounting records.\",\n",
       "  \"parameters\": {\n",
       "    \"type\": \"object\",\n",
       "    \"properties\": {\n",
       "      \"amount\": {\n",
       "        \"type\": \"float\",\n",
       "        \"description\": \"The amount spent by the user.\"\n",
       "      },\n",
       "      \"category\": {\n",
       "        \"type\": \"string\",\n",
       "        \"enum\": [\n",
       "          \"food\",\n",
       "          \"entertainment\",\n",
       "          \"clothing\",\n",
       "          \"travel\",\n",
       "          \"utilities\",\n",
       "          \"other\"\n",
       "        ],\n",
       "        \"description\": \"The category the expense falls under.\"\n",
       "      },\n",
       "      \"date\": {\n",
       "        \"type\": \"string\",\n",
       "        \"format\": \"yyyy-mm-dd\",\n",
       "        \"description\": \"The date of the expense\"\n",
       "      },\n",
       "      \"notes\": {\n",
       "        \"type\": \"string\",\n",
       "        \"description\": \"A short note about the expense, that will remind the user of it if needed.\"\n",
       "      }\n",
       "    },\n",
       "    \"required\": [\n",
       "      \"amount\",\n",
       "      \"category\",\n",
       "      \"date\"\n",
       "    ]\n",
       "  },\n",
       "  \"responses\": [\n",
       "    {\n",
       "      \"type\": \"string\",\n",
       "      \"description\": \"The ID of the created expense entry.\"\n",
       "    }\n",
       "  ],\n",
       "  \"errors\": [\n",
       "    {\n",
       "      \"name\": \"BadEntry\",\n",
       "      \"description\": \"The category or date are invalid.\"\n",
       "    }\n",
       "  ]\n",
       "}\n",
       "```\n",
       "\n",
       "```json\n",
       "{\n",
       "  \"name\": \"get_expense_entries\",\n",
       "  \"description\": \"Fetches expense entries from the user's personal accounting records, filtering by category and date. To fetch expense entries for multiple categories at the same time, call this function in parallel.\",\n",
       "  \"parameters\": {\n",
       "    \"type\": \"object\",\n",
       "    \"properties\": {\n",
       "      \"category\": {\n",
       "        \"type\": \"string\",\n",
       "        \"enum\": [\n",
       "          \"food\",\n",
       "          \"entertainment\",\n",
       "          \"clothing\",\n",
       "          \"travel\",\n",
       "          \"utilities\",\n",
       "          \"other\"\n",
       "        ],\n",
       "        \"description\": \"The category the expense falls under, if filtering by category.\"\n",
       "      },\n",
       "      \"from_date\": {\n",
       "        \"type\": \"string\",\n",
       "        \"format\": \"yyyy-mm-dd\",\n",
       "        \"description\": \"If filtering by date, this is the start of the search period (inclusive).\"\n",
       "      },\n",
       "      \"to_date\": {\n",
       "        \"type\": \"string\",\n",
       "        \"format\": \"yyyy-mm-dd\",\n",
       "        \"description\": \"If filtering by date, this is the end of the search period (inclusive).\"\n",
       "      }\n",
       "    },\n",
       "    \"required\": []\n",
       "  },\n",
       "  \"responses\": [\n",
       "    {\n",
       "      \"type\": \"object\",\n",
       "      \"properties\": {\n",
       "        \"entries\": {\n",
       "          \"type\": \"array\",\n",
       "          \"items\": {\n",
       "            \"type\": \"object\",\n",
       "            \"properties\": {\n",
       "              \"amount\": {\n",
       "                \"type\": \"float\",\n",
       "                \"description\": \"The amount spent by the user.\"\n",
       "              },\n",
       "              \"category\": {\n",
       "                \"type\": \"string\",\n",
       "                \"enum\": [\n",
       "                  \"food\",\n",
       "                  \"entertainment\",\n",
       "                  \"clothing\",\n",
       "                  \"travel\",\n",
       "                  \"utilities\",\n",
       "                  \"other\"\n",
       "                ],\n",
       "                \"description\": \"The category the expense falls under.\"\n",
       "              },\n",
       "              \"notes\": {\n",
       "                \"type\": \"string\",\n",
       "                \"description\": \"A short note about the expense, that will remind the user of it if needed.\"\n",
       "              },\n",
       "              \"date\": {\n",
       "                \"type\": \"string\",\n",
       "                \"format\": \"yyyy-mm-dd\",\n",
       "                \"description\": \"The date of the expense\"\n",
       "              },\n",
       "              \"created\": {\n",
       "                \"type\": \"string\",\n",
       "                \"format\": \"iso8601\",\n",
       "                \"description\": \"The timestamp recording when the entry was made.\"\n",
       "              },\n",
       "              \"id\": {\n",
       "                \"type\": \"string\",\n",
       "                \"description\": \"The ID of the expense entry.\"\n",
       "              }\n",
       "            }\n",
       "          }\n",
       "        },\n",
       "        \"count\": {\n",
       "          \"type\": \"int\",\n",
       "          \"description\": \"The number of transactions returned.\"\n",
       "        },\n",
       "        \"total\": {\n",
       "          \"type\": \"float\",\n",
       "          \"description\": \"The sum total of the amount spent in the transactions returned.\"\n",
       "        }\n",
       "      }\n",
       "    }\n",
       "  ],\n",
       "  \"errors\": [\n",
       "    {\n",
       "      \"name\": \"BadEntry\",\n",
       "      \"description\": \"The category, from date or to date are invalid.\"\n",
       "    },\n",
       "    {\n",
       "      \"name\": \"NoResults\",\n",
       "      \"description\": \"The search yielded no results with the given filters.\"\n",
       "    }\n",
       "  ]\n",
       "}\n",
       "```\n"
      ],
      "text/plain": [
       "<IPython.core.display.Markdown object>"
      ]
     },
     "metadata": {},
     "output_type": "display_data"
    }
   ],
   "source": [
    "functions = toolkit.functions.specify()\n",
    "render_markdown(functions)"
   ]
  },
  {
   "cell_type": "markdown",
   "id": "1d6e4efa-199a-42ec-b153-2512a45c8f15",
   "metadata": {},
   "source": [
    "### Selecting and downloading a multimodal model\n",
    "\n",
    "Next, we'll select and download a model (the 'brain' of our setup) using `ollama`. For function calling, the larger models work best, so we recommend the 27B parameter version of Gemma 3 (`gemma3:27b`)."
   ]
  },
  {
   "cell_type": "code",
   "execution_count": 7,
   "id": "71fba163-15c6-44e1-bac0-4479d2b1b701",
   "metadata": {},
   "outputs": [],
   "source": [
    "model = \"gemma3:27b\""
   ]
  },
  {
   "cell_type": "markdown",
   "id": "18d26a43-a13b-494b-a3c9-b93f373f2f17",
   "metadata": {},
   "source": [
    "This next command pulls the selected model from `ollama`. This download is large, so it might take a few minutes."
   ]
  },
  {
   "cell_type": "code",
   "execution_count": 8,
   "id": "15a97d1a-7dee-4a86-871d-504e388b6b6e",
   "metadata": {},
   "outputs": [
    {
     "name": "stdout",
     "output_type": "stream",
     "text": [
      "bind [127.0.0.1]:5555: Address already in use\n",
      "channel_setup_fwd_listener_tcpip: cannot listen to port: 5555\n",
      "bind [127.0.0.1]:11434: Address already in use\n",
      "channel_setup_fwd_listener_tcpip: cannot listen to port: 11434\n",
      "Could not request local forwarding.\n",
      "\u001b[?2026h\u001b[?25l\u001b[1Gpulling manifest ⠋ \u001b[K\u001b[?25h\u001b[?2026l\u001b[?2026h\u001b[?25l\u001b[1Gpulling manifest ⠙ \u001b[K\u001b[?25h\u001b[?2026l\u001b[?2026h\u001b[?25l\u001b[1Gpulling manifest ⠹ \u001b[K\u001b[?25h\u001b[?2026l\u001b[?2026h\u001b[?25l\u001b[1Gpulling manifest ⠸ \u001b[K\u001b[?25h\u001b[?2026l\u001b[?2026h\u001b[?25l\u001b[1Gpulling manifest ⠼ \u001b[K\u001b[?25h\u001b[?2026l\u001b[?2026h\u001b[?25l\u001b[1Gpulling manifest ⠴ \u001b[K\u001b[?25h\u001b[?2026l\u001b[?2026h\u001b[?25l\u001b[1Gpulling manifest ⠦ \u001b[K\u001b[?25h\u001b[?2026l\u001b[?2026h\u001b[?25l\u001b[1Gpulling manifest ⠧ \u001b[K\u001b[?25h\u001b[?2026l\u001b[?2026h\u001b[?25l\u001b[1Gpulling manifest ⠇ \u001b[K\u001b[?25h\u001b[?2026l\u001b[?2026h\u001b[?25l\u001b[1Gpulling manifest ⠏ \u001b[K\u001b[?25h\u001b[?2026l\u001b[?2026h\u001b[?25l\u001b[1Gpulling manifest ⠋ \u001b[K\u001b[?25h\u001b[?2026l\u001b[?2026h\u001b[?25l\u001b[1Gpulling manifest ⠙ \u001b[K\u001b[?25h\u001b[?2026l\u001b[?2026h\u001b[?25l\u001b[1Gpulling manifest \u001b[K\n",
      "pulling e796792eba26: 100% ▕██████████████████▏  17 GB                         \u001b[K\n",
      "pulling e0a42594d802: 100% ▕██████████████████▏  358 B                         \u001b[K\n",
      "pulling dd084c7d92a3: 100% ▕██████████████████▏ 8.4 KB                         \u001b[K\n",
      "pulling 3116c5225075: 100% ▕██████████████████▏   77 B                         \u001b[K\n",
      "pulling f838f048d368: 100% ▕██████████████████▏  490 B                         \u001b[K\n",
      "verifying sha256 digest \u001b[K\n",
      "writing manifest \u001b[K\n",
      "success \u001b[K\u001b[?25h\u001b[?2026l\n"
     ]
    }
   ],
   "source": [
    "! ollama pull {model}"
   ]
  },
  {
   "cell_type": "markdown",
   "id": "47c57308-95de-4c8d-99d8-c9585205201f",
   "metadata": {},
   "source": [
    "### Instructing the model to use our functions\n",
    "\n",
    "Gemma 3 is not specifically trained for function calling and [does not have a system prompt](https://ai.google.dev/gemma/docs/core/prompt-structure#system-instructions). However, providing instructions on what functions it can use and how to use them at the beginning of the conversation effectively enables function calling in Gemma. Think of this as the 'rulebook' or 'job description' for the assistant we want Gemma to be.\n",
    "\n",
    "The instructions we provide for function calling might vary based on the model we are using. The prompt we're using has been carefully designed to produce the best results for the selected model."
   ]
  },
  {
   "cell_type": "code",
   "execution_count": 9,
   "id": "9133a1c1-c66b-43d0-bbff-b7c6f2d2566d",
   "metadata": {
    "scrolled": true
   },
   "outputs": [
    {
     "data": {
      "text/markdown": [
       "You are a helpful assistant to me, the user.\n",
       "\n",
       "You have access to programmatic functions that you can invoke to better assist me. These functions are described via function specifications - essentially, your manual to using them. Each specification contains the name of the function, a detailed description on what it does, the parameters it accepts, the possible responses and errors it produces, and examples of when to use the given function. A function specification is a JSON object, provided by me in a special code block labelled `function_spec`, like so:\n",
       "\n",
       "```json\n",
       "{\n",
       "    \"name\": the name of the function,\n",
       "    \"description\": a detailed description of what the function does,\n",
       "    \"parameters\": a dictionary of arguments to pass to the function,\n",
       "    \"responses\": a list of possible outputs the function can produce,\n",
       "    \"errors\": a list of possible errors the function can raise,\n",
       "    \"examples\": a list of examples of when calling the function is required\n",
       "}\n",
       "```\n",
       "\n",
       "You can call these functions by including special code blocks labelled `function_call` in your responses, like so:\n",
       "\n",
       "```json\n",
       "{\n",
       "\t\"id\": a string used to pair the function call with its output,\n",
       "\t\"function\": the name of the function to call,\n",
       "\t\"parameters\": a dictionary of parameter names and values to pass to the function\n",
       "}\n",
       "```\n",
       "\n",
       "I will execute the function and the result of the function call will be returned in a special code block labelled `function_output` in their response, like so:\n",
       "\n",
       "```json\n",
       "{\n",
       "\t\"id\": the same string provided when calling the function,\n",
       "\t\"result\": the output of the function - present only when the function execution succeeds,\n",
       "\t\"error\": the error thrown by the function - present only when the function raises an exception or throws an error\n",
       "}\n",
       "```\n",
       "\n",
       "Please remember the following guidelines while responding.\n",
       "\n",
       "If you need information that I haven't provided in the conversation uptil now, *ask me for it*. You must never, ever, guess or make assumptions. This is a critical safeguard that prevents hallucinations.\n",
       "\n",
       "Before responding, briefly consider:\n",
       "\n",
       "- what information do you need to fulfill the request?\n",
       "- what functions, if any, can help?\n",
       "- what are the potential dependencies between functions?\n",
       "\n",
       "You are encouraged to combine subtasks and call functions in parallel by including multiple `function_call` blocks in a single response IF AND ONLY IF:\n",
       "\n",
       "- the functions do not affect each other's execution,\n",
       "- the result of one or more function call(s) is not needed for the others to run, and\n",
       "- a function does not need to read the data that another function has just created, updated, or deleted.\n",
       "\n",
       "Please note that the order in which functions execute is NOT guaranteed. If all the above conditions are not satisfied, do not call the dependent functions in parallel. It is generally safe to call the same function with different parameters in parallel when you need to fetch, update, create or delete multiple of the same kind of resources.\n",
       "\n",
       "Ensure your final response fully addresses my request, and is helpful to me.\n",
       "\n",
       "Please preface all your responses with a special code block labelled `thinking` that include your thoughts, observations and justification for actions that you are taking. Include the guidelines you have followed and not followed while producing your response as well."
      ],
      "text/plain": [
       "<IPython.core.display.Markdown object>"
      ]
     },
     "metadata": {},
     "output_type": "display_data"
    }
   ],
   "source": [
    "prompt = toolkit.prompts.function_calling(model)\n",
    "render_markdown(prompt)"
   ]
  },
  {
   "cell_type": "markdown",
   "id": "15c2faa2-d805-4499-a50b-36b753d6adf2",
   "metadata": {},
   "source": [
    "This prompt looks long, but it's doing some very important things to ensure Gemma behaves predictably:\n",
    "\n",
    "- It tells the model it's a \"thinking assistant\" and introduces the concept of a \"thread\" to manage a task from start to finish.\n",
    "- It restricts the model to one of three actions: ask for clarification, call a function, or conclude the conversation. This prevents unstructured responses.\n",
    "- It requires the model to explain its reasoning in a thinking block before every action. This is like asking someone to 'show their work' and is invaluable for understanding and debugging.\n",
    "- It defines special code blocks (`function_spec`, `function_call`, `function_output`) so our Python code can easily parse the model's intent without getting it mixed up with the conversational text.\n",
    "- It instructs the model to analyze tasks and run function calls in parallel whenever possible.\n",
    "- It includes a crucial rule: never assume or hallucinate information. If a detail is missing (like a budget amount), the model must stop and ask for it.\n",
    "- It demands that the final answer be a friendly, natural-language summary, not just a raw dump of data from a function."
   ]
  },
  {
   "cell_type": "markdown",
   "id": "e78e8fcf-f1ae-4d03-ad8a-99c7faaecf8b",
   "metadata": {},
   "source": [
    "### Bringing it all together\n",
    "\n",
    "With our 'manuals' written, our 'brain' downloaded and setup with our 'rulebook', we're ready to put it all together!\n",
    "\n",
    "We can now engage in a back-and-forth conversation with Gemma to complete our tasks. First, it might be helpful to understand the flow of this conversation, which we'll call the user-model interaction loop:\n",
    "\n",
    "```yaml\n",
    "    user: give an instruction or task to the model (e.g., log this expense).\n",
    "    \n",
    "    model: thinks about the task and decides if it is necessary to use a function.\n",
    "    model: if yes, it produces a response with a 'function_call' code block.\n",
    "    \n",
    "    code: parses the model response to extract function calls.\n",
    "    code: executes the actual python function with the parameters the model provided.\n",
    "    code: feed the result of that function back to the model in a 'function_output'.\n",
    "    \n",
    "    model: jumps back to step 2 - but thinks about the result instead of the task.\n",
    "```\n",
    "\n",
    "For a diagrammatic representation of this flow, take a look at [this flowchart](media/flowchart.svg).\n",
    "\n",
    "### Trying it out\n",
    "\n",
    "<div style=\"display: flex; align-items: flex-start;\">\n",
    "    <div style=\"flex: 1;\">\n",
    "        Let's try this out. Say we just ate at a restaurant, and got a bill (shown on the right). Let's ask Gemma to add it as an expense, and check if this puts us over our monthly budget for food.<br><br>\n",
    "        We'll give Gemma the image of the bill and our request. Notice how we are bundling everything into a list of messages: our prompt (the rulebook), the function specifications (the manuals), and then the task itself.\n",
    "    </div>\n",
    "    <div style=\"flex-shrink: 0;\">\n",
    "        <img src=\"media/bill.jpg\" width=\"300\" height=\"100\" />\n",
    "    </div>\n",
    "</div>"
   ]
  },
  {
   "cell_type": "code",
   "execution_count": 10,
   "id": "7204c241-64be-4ed1-84e7-18167cc9064d",
   "metadata": {},
   "outputs": [],
   "source": [
    "task = \"Add this bill to my expenses, and let me know if I'm going over my food budget of 1000 this month.\""
   ]
  },
  {
   "cell_type": "code",
   "execution_count": 11,
   "id": "f3b4886e-fb66-4cb3-8ade-483e3fa5fa39",
   "metadata": {},
   "outputs": [],
   "source": [
    "messages = [\n",
    "    {\"role\": \"user\", \"content\": prompt},\n",
    "    {\"role\": \"user\", \"content\": functions},\n",
    "    {\"role\": \"user\", \"content\": task, \"images\": [\"media/bill.jpg\"]},\n",
    "]"
   ]
  },
  {
   "cell_type": "markdown",
   "id": "bde3f8bc-4c33-4156-839d-89e9f37f7df6",
   "metadata": {},
   "source": [
    "Our toolkit's `get_response` function handles sending this to the model. Let's see what the model's first response is."
   ]
  },
  {
   "cell_type": "code",
   "execution_count": 12,
   "id": "a5b98a0f-f14d-4898-ad60-1747b92681b3",
   "metadata": {},
   "outputs": [
    {
     "data": {
      "text/markdown": [
       "<blockquote>\n",
       "Okay, I need to add the bill details to the user's expenses and then check if their total food expenses this month are over 1000. I will first add the bill as a new expense entry, then fetch all food expenses for the current month, and finally compare the total to 1000.\n",
       "\n",
       "I will use the `make_expense_entry` function to add the expense. The amount is 588.00, the category is \"food\", and the date is 2025-05-04.\n",
       "\n",
       "After that, I will use `get_expense_entries` to retrieve all expenses for the \"food\" category for the current month (May 2025). I will need to determine the start and end dates for May 2025. Then, I will sum up the amounts from those entries and check if the total exceeds 1000.\n",
       "</blockquote>\n",
       "\n",
       "\n",
       "\n",
       "```json\n",
       "{\n",
       "\t\"id\": \"1\",\n",
       "\t\"function\": \"make_expense_entry\",\n",
       "\t\"parameters\": {\n",
       "\t\t\"amount\": 588.00,\n",
       "\t\t\"category\": \"food\",\n",
       "\t\t\"date\": \"2025-05-04\",\n",
       "\t\t\"notes\": \"Dinner bill\"\n",
       "\t}\n",
       "}\n",
       "```"
      ],
      "text/plain": [
       "<IPython.core.display.Markdown object>"
      ]
     },
     "metadata": {},
     "output_type": "display_data"
    }
   ],
   "source": [
    "streaming_response = toolkit.model.get_response(model, messages)\n",
    "complete_response = render_live(streaming_response)\n",
    "messages.append({\"role\": \"assistant\", \"content\": complete_response})"
   ]
  },
  {
   "cell_type": "markdown",
   "id": "36e51f36-46ec-4fb5-b94a-ceceb2de8921",
   "metadata": {},
   "source": [
    "### Making sense of the model's response\n",
    "\n",
    "The model's response contains two key parts - a `thinking` block, and a `function_call` block. The `thinking` block shows us its reasoning - it understood it needs to first add the expense, and then check the total. The `function_call` block is its chosen action - it contains the function to call, and the parameters to pass to it.\n",
    "\n",
    "Notice how the model intelligently extracts parameters from the information available to it - it gets the amount, category, and date of the expense all from the bill we provided to it. It even assumes the current month is May, since the receipt is dated May 2025. \n",
    "\n",
    "Now, let's follow the user-model loop and move on to step 3 - parsing this response to get the function call."
   ]
  },
  {
   "cell_type": "code",
   "execution_count": 13,
   "id": "4da42835-2f87-4ecc-8ba3-ee8eef3d446f",
   "metadata": {},
   "outputs": [
    {
     "data": {
      "text/markdown": [
       "```json\n",
       "[\n",
       "  {\n",
       "    \"id\": \"1\",\n",
       "    \"function\": \"make_expense_entry\",\n",
       "    \"parameters\": {\n",
       "      \"amount\": 588.0,\n",
       "      \"category\": \"food\",\n",
       "      \"date\": \"2025-05-04\",\n",
       "      \"notes\": \"Dinner bill\"\n",
       "    }\n",
       "  }\n",
       "]\n",
       "```\n"
      ],
      "text/plain": [
       "<IPython.core.display.Markdown object>"
      ]
     },
     "metadata": {},
     "output_type": "display_data"
    }
   ],
   "source": [
    "calls = toolkit.functions.parse_calls(complete_response)\n",
    "render_json(calls)"
   ]
  },
  {
   "cell_type": "markdown",
   "id": "597ea93b-cc09-43a1-b088-0fa1f8277159",
   "metadata": {},
   "source": [
    "### Executing the function calls\n",
    "\n",
    "We can now loop through these function calls and execute them one by one using a helper function from the toolkit. It identifies the function to execute from the list of registered functions, invokes the function with the given named parameters, and formats the function's output in JSON.\n",
    "\n",
    "Since functions can be asynchronous, the results are passed via a callback. Our callback, the `respond` function, simply stores the results of the function call as a message from the user."
   ]
  },
  {
   "cell_type": "code",
   "execution_count": 14,
   "id": "a3c8c886-711b-4b97-9273-576edd6e5e42",
   "metadata": {},
   "outputs": [],
   "source": [
    "def respond(result: str) -> None:\n",
    "    global messages\n",
    "    messages.append({\"role\": \"user\", \"content\": result})\n",
    "\n",
    "\n",
    "for call in calls:\n",
    "    toolkit.functions.execute_call(call, respond)"
   ]
  },
  {
   "cell_type": "markdown",
   "id": "7b992c4c-fe61-4e19-92c7-899c1865624c",
   "metadata": {},
   "source": [
    "Let's look at the result that was added to our messages. It's a `function_output` block containing the ID of the newly created expense."
   ]
  },
  {
   "cell_type": "code",
   "execution_count": 15,
   "id": "4089c419-7cde-47a9-9083-fb8a607fee1a",
   "metadata": {},
   "outputs": [
    {
     "data": {
      "text/markdown": [
       "```json\n",
       "{\n",
       "    \"id\": \"1\",\n",
       "    \"result\": \"14fad560\"\n",
       "}\n",
       "```"
      ],
      "text/plain": [
       "<IPython.core.display.Markdown object>"
      ]
     },
     "metadata": {},
     "output_type": "display_data"
    }
   ],
   "source": [
    "render_markdown(messages[-1][\"content\"])"
   ]
  },
  {
   "cell_type": "markdown",
   "id": "557bc02b-1349-42bb-90d7-cfed267d1c07",
   "metadata": {},
   "source": [
    "Notice that the output is wrapped in a JSON object, with the `id` being the same as the `id` received in the function call. This lets the model know which function call produced the output it is receiving."
   ]
  },
  {
   "cell_type": "markdown",
   "id": "882d625f-b89d-48ee-aa1b-cd5dc870e4b0",
   "metadata": {},
   "source": [
    "### Continuing the conversation\n",
    "\n",
    "Now that we have the results of the first function call, we can provide it to the model. Let's send the updated conversation history back to Gemma and see what it does for its next step."
   ]
  },
  {
   "cell_type": "code",
   "execution_count": 16,
   "id": "0e3fea06-9e3e-4e0d-84a2-3bca699d53e7",
   "metadata": {},
   "outputs": [
    {
     "data": {
      "text/markdown": [
       "<blockquote>\n",
       "The `make_expense_entry` function call was successful and returned the ID \"14fad560\". Now I need to fetch all food expenses for May 2025 to check if the budget has been exceeded. I'll call the `get_expense_entries` function with the category set to \"food\", the from\\_date set to 2025-05-01, and the to\\_date set to 2025-05-31.\n",
       "</blockquote>\n",
       "\n",
       "\n",
       "\n",
       "```json\n",
       "{\n",
       "\t\"id\": \"2\",\n",
       "\t\"function\": \"get_expense_entries\",\n",
       "\t\"parameters\": {\n",
       "\t\t\"category\": \"food\",\n",
       "\t\t\"from_date\": \"2025-05-01\",\n",
       "\t\t\"to_date\": \"2025-05-31\"\n",
       "\t}\n",
       "}\n",
       "```"
      ],
      "text/plain": [
       "<IPython.core.display.Markdown object>"
      ]
     },
     "metadata": {},
     "output_type": "display_data"
    }
   ],
   "source": [
    "streaming_response = toolkit.model.get_response(model, messages)\n",
    "complete_response = render_live(streaming_response)\n",
    "messages.append({\"role\": \"assistant\", \"content\": complete_response})"
   ]
  },
  {
   "cell_type": "markdown",
   "id": "6edb4b48-1617-43c5-9d87-d7661bf1ff58",
   "metadata": {},
   "source": [
    "With this, we go back to the second step of the loop, and receive two blocks again - one with the model's thoughts, and the other with another function call. Notice how it acknowledges the output of the previous function - it knows the call is successful, and that the returned string is the ID of the expense entry. This is thanks to the detailed function specification ('manual') we gave it.\n",
    "\n",
    "The model also indicates that it's now moving on to the second part of our request: checking the food budget. It has correctly decided to call the `get_expense_entries` function. Let's parse and execute this new call."
   ]
  },
  {
   "cell_type": "code",
   "execution_count": 17,
   "id": "46af6818-b24a-47f5-960e-de17802f2f65",
   "metadata": {},
   "outputs": [],
   "source": [
    "calls = toolkit.functions.parse_calls(complete_response)\n",
    "for call in calls:\n",
    "    toolkit.functions.execute_call(call, respond)"
   ]
  },
  {
   "cell_type": "markdown",
   "id": "6ee58725-bd61-4e3b-8a95-489a31553f9e",
   "metadata": {},
   "source": [
    "Let's inspect the result of this second function call:"
   ]
  },
  {
   "cell_type": "code",
   "execution_count": 18,
   "id": "0357bdd7-1cad-4804-af97-90dd42ee5c8f",
   "metadata": {},
   "outputs": [
    {
     "data": {
      "text/markdown": [
       "```json\n",
       "{\n",
       "    \"id\": \"2\",\n",
       "    \"result\": {\n",
       "        \"transactions\": [\n",
       "            {\n",
       "                \"amount\": 231.5,\n",
       "                \"category\": \"food\",\n",
       "                \"date\": \"2025-05-19\",\n",
       "                \"notes\": null,\n",
       "                \"created\": \"2025-06-20T17:02:19.603926\",\n",
       "                \"id\": \"ba6c9c0e\"\n",
       "            },\n",
       "            {\n",
       "                \"amount\": 459,\n",
       "                \"category\": \"food\",\n",
       "                \"date\": \"2025-05-20\",\n",
       "                \"notes\": null,\n",
       "                \"created\": \"2025-06-20T17:02:19.604021\",\n",
       "                \"id\": \"0be11f7b\"\n",
       "            },\n",
       "            {\n",
       "                \"amount\": 588.0,\n",
       "                \"category\": \"food\",\n",
       "                \"date\": \"2025-05-04\",\n",
       "                \"notes\": \"Dinner bill\",\n",
       "                \"created\": \"2025-06-20T17:03:36.627404\",\n",
       "                \"id\": \"14fad560\"\n",
       "            }\n",
       "        ],\n",
       "        \"count\": 3,\n",
       "        \"total\": 1278.5\n",
       "    }\n",
       "}\n",
       "```"
      ],
      "text/plain": [
       "<IPython.core.display.Markdown object>"
      ]
     },
     "metadata": {},
     "output_type": "display_data"
    }
   ],
   "source": [
    "render_markdown(messages[-1][\"content\"])"
   ]
  },
  {
   "cell_type": "markdown",
   "id": "76da7844-820a-4ce4-abd7-486feedba2a6",
   "metadata": {},
   "source": [
    "The function returned a list of all food expenses this month, including the one we just added. Now for the final step: let's send this information to Gemma and get our final answer."
   ]
  },
  {
   "cell_type": "code",
   "execution_count": 19,
   "id": "25721b5d-3a19-407a-8e22-472bf68a58ed",
   "metadata": {},
   "outputs": [
    {
     "data": {
      "text/markdown": [
       "<blockquote>\n",
       "I have successfully retrieved the food expenses for May 2025. The total amount spent on food is 1278.5. Since this amount is greater than 1000, the user has exceeded their food budget. I will inform them of this.\n",
       "</blockquote>\n",
       "\n",
       "\n",
       "\n",
       "Your total food expenses for May 2025 are 1278.5, which exceeds your budget of 1000."
      ],
      "text/plain": [
       "<IPython.core.display.Markdown object>"
      ]
     },
     "metadata": {},
     "output_type": "display_data"
    }
   ],
   "source": [
    "streaming_response = toolkit.model.get_response(model, messages)\n",
    "complete_response = render_live(streaming_response)\n",
    "messages.append({\"role\": \"assistant\", \"content\": complete_response})"
   ]
  },
  {
   "cell_type": "markdown",
   "id": "34332c20-3ed6-4ca4-a75d-8491d34fc11c",
   "metadata": {},
   "source": [
    "Nice! The model's final thinking block shows that it has all the information it needs. It compares the total spending to our budget and generates a helpful natural-language response.\n",
    "\n",
    "Congratulations! You've just completed your first function-calling conversation with Gemma!"
   ]
  },
  {
   "cell_type": "markdown",
   "id": "3b8bfbcb-ad4e-4f49-9252-6e66ac15b77a",
   "metadata": {},
   "source": [
    "### Trying out parallel function calls\n",
    "\n",
    "Let's give Gemma a slightly more complex task. We'll ask about two different budgets at once: clothing and travel. Since checking the clothing budget doesn't depend on the travel budget, the model should be smart enough to call the function for both categories in parallel."
   ]
  },
  {
   "cell_type": "code",
   "execution_count": 20,
   "id": "4758b18d-a614-4beb-a299-950a887db8c1",
   "metadata": {},
   "outputs": [],
   "source": [
    "task = \"Oh no! Could you also check if I have gone above my clothes and travel budgets?\"\n",
    "messages.append({\"role\": \"user\", \"content\": task})"
   ]
  },
  {
   "cell_type": "code",
   "execution_count": 21,
   "id": "ba538730-f448-4bf6-b65b-f64453c3d480",
   "metadata": {},
   "outputs": [
    {
     "data": {
      "text/markdown": [
       "<blockquote>\n",
       "Okay, the user wants me to check their spending against their clothing and travel budgets as well. I'll need to call the `get_expense_entries` function twice - once for \"clothing\" and once for \"travel\" - for the current month (May 2025). I'll compare the total for each category with their respective budgets (which I currently do not know, so I need to ask the user for these).\n",
       "\n",
       "First, I'll ask the user for their monthly clothing and travel budgets.\n",
       "</blockquote>\n",
       "\n",
       "\n",
       "\n",
       "Could you please tell me your monthly budget for clothing and travel?"
      ],
      "text/plain": [
       "<IPython.core.display.Markdown object>"
      ]
     },
     "metadata": {},
     "output_type": "display_data"
    }
   ],
   "source": [
    "streaming_response = toolkit.model.get_response(model, messages)\n",
    "complete_response = render_live(streaming_response)\n",
    "messages.append({\"role\": \"assistant\", \"content\": complete_response})"
   ]
  },
  {
   "cell_type": "markdown",
   "id": "d45b0c2b-f72e-42c9-ab08-76c1eb303060",
   "metadata": {},
   "source": [
    "Ah, look at that! Instead of calling a function, Gemma responded by asking a question. This is perfect! We never told it our budgets for clothing and travel. Because of the \"no guessing\" rule in our prompt, it correctly identified that it was missing information and chose to ask for clarification. Let us respond with a clarification:"
   ]
  },
  {
   "cell_type": "code",
   "execution_count": 22,
   "id": "e729919d-01ba-4908-ae46-0ee90039835b",
   "metadata": {},
   "outputs": [],
   "source": [
    "clarification = \"My clothing budget is 500, and my travel budget is 2k.\"\n",
    "messages.append({\"role\": \"user\", \"content\": clarification})"
   ]
  },
  {
   "cell_type": "markdown",
   "id": "0e5b6cf1-8056-434a-87f8-2e49b19f0afc",
   "metadata": {},
   "source": [
    "Now let's see what it does with this new information."
   ]
  },
  {
   "cell_type": "code",
   "execution_count": 23,
   "id": "bf4a0c13-07dd-4e10-987f-8ab47d18313a",
   "metadata": {},
   "outputs": [
    {
     "data": {
      "text/markdown": [
       "<blockquote>\n",
       "Okay, I now have the user's clothing budget (500) and travel budget (2000). I will now call `get_expense_entries` for \"clothing\" and \"travel\" for May 2025 and compare the results with these budgets.\n",
       "</blockquote>\n",
       "\n",
       "\n",
       "\n",
       "```json\n",
       "{\n",
       "\t\"id\": \"3\",\n",
       "\t\"function\": \"get_expense_entries\",\n",
       "\t\"parameters\": {\n",
       "\t\t\"category\": \"clothing\",\n",
       "\t\t\"from_date\": \"2025-05-01\",\n",
       "\t\t\"to_date\": \"2025-05-31\"\n",
       "\t}\n",
       "}\n",
       "```\n",
       "\n",
       "```json\n",
       "{\n",
       "\t\"id\": \"4\",\n",
       "\t\"function\": \"get_expense_entries\",\n",
       "\t\"parameters\": {\n",
       "\t\t\"category\": \"travel\",\n",
       "\t\t\"from_date\": \"2025-05-01\",\n",
       "\t\t\"to_date\": \"2025-05-31\"\n",
       "\t}\n",
       "}\n",
       "```"
      ],
      "text/plain": [
       "<IPython.core.display.Markdown object>"
      ]
     },
     "metadata": {},
     "output_type": "display_data"
    }
   ],
   "source": [
    "streaming_response = toolkit.model.get_response(model, messages)\n",
    "complete_response = render_live(streaming_response)\n",
    "messages.append({\"role\": \"assistant\", \"content\": complete_response})"
   ]
  },
  {
   "cell_type": "markdown",
   "id": "e97eb186-60c7-47fb-88d0-84def4611bd7",
   "metadata": {},
   "source": [
    "Exactly what we wanted! It generated two calls to the `get_expense_entries` function with different IDs - passing 'clothing' as the category in the first one, and 'travel' as the category in the second. This is parallel function calling in action!\n",
    "\n",
    "Let's parse and execute both these function calls."
   ]
  },
  {
   "cell_type": "code",
   "execution_count": 24,
   "id": "a20d063a-e621-48cc-9df4-2806c797d15f",
   "metadata": {},
   "outputs": [],
   "source": [
    "calls = toolkit.functions.parse_calls(complete_response)\n",
    "for call in calls:\n",
    "    toolkit.functions.execute_call(call, respond)"
   ]
  },
  {
   "cell_type": "markdown",
   "id": "89222958-0d90-47ff-9e99-d3b6d71c6d67",
   "metadata": {},
   "source": [
    "We can inspect the last two messages to see the results for our clothing and travel expenses."
   ]
  },
  {
   "cell_type": "code",
   "execution_count": 25,
   "id": "ee1b4ccd-8d54-4643-ab76-1d99efdd0171",
   "metadata": {},
   "outputs": [
    {
     "data": {
      "text/markdown": [
       "```json\n",
       "{\n",
       "    \"id\": \"3\",\n",
       "    \"result\": {\n",
       "        \"transactions\": [\n",
       "            {\n",
       "                \"amount\": 917,\n",
       "                \"category\": \"clothing\",\n",
       "                \"date\": \"2025-05-20\",\n",
       "                \"notes\": null,\n",
       "                \"created\": \"2025-06-20T17:02:19.604100\",\n",
       "                \"id\": \"1b0ec625\"\n",
       "            }\n",
       "        ],\n",
       "        \"count\": 1,\n",
       "        \"total\": 917\n",
       "    }\n",
       "}\n",
       "```"
      ],
      "text/plain": [
       "<IPython.core.display.Markdown object>"
      ]
     },
     "metadata": {},
     "output_type": "display_data"
    }
   ],
   "source": [
    "render_markdown(messages[-2][\"content\"])"
   ]
  },
  {
   "cell_type": "code",
   "execution_count": 26,
   "id": "a7fdf4a7-eced-4675-936c-934130a006fc",
   "metadata": {},
   "outputs": [
    {
     "data": {
      "text/markdown": [
       "```json\n",
       "{\n",
       "    \"id\": \"4\",\n",
       "    \"result\": {\n",
       "        \"transactions\": [\n",
       "            {\n",
       "                \"amount\": 78,\n",
       "                \"category\": \"travel\",\n",
       "                \"date\": \"2025-05-19\",\n",
       "                \"notes\": null,\n",
       "                \"created\": \"2025-06-20T17:02:19.603784\",\n",
       "                \"id\": \"0b7fe740\"\n",
       "            }\n",
       "        ],\n",
       "        \"count\": 1,\n",
       "        \"total\": 78\n",
       "    }\n",
       "}\n",
       "```"
      ],
      "text/plain": [
       "<IPython.core.display.Markdown object>"
      ]
     },
     "metadata": {},
     "output_type": "display_data"
    }
   ],
   "source": [
    "render_markdown(messages[-1][\"content\"])"
   ]
  },
  {
   "cell_type": "markdown",
   "id": "72f65952-156e-462d-911e-a111c25ab320",
   "metadata": {},
   "source": [
    "Finally, let's send both of these results back to the model to get its final summary."
   ]
  },
  {
   "cell_type": "code",
   "execution_count": 27,
   "id": "2e12e941-7d55-4570-9f87-37a82970876b",
   "metadata": {},
   "outputs": [
    {
     "data": {
      "text/markdown": [
       "<blockquote>\n",
       "I have retrieved the clothing and travel expenses for May 2025. The clothing expense is 917, and the travel expense is 78. Now, I will compare these amounts with the user's budgets (500 for clothing and 2000 for travel) and inform them.\n",
       "</blockquote>\n",
       "\n",
       "\n",
       "\n",
       "Here's a summary of your budget performance for May 2025:\n",
       "\n",
       "*   **Food:** You spent 1278.5, exceeding your 1000 budget.\n",
       "*   **Clothing:** You spent 917, exceeding your 500 budget.\n",
       "*   **Travel:** You spent 78, which is well within your 2000 budget."
      ],
      "text/plain": [
       "<IPython.core.display.Markdown object>"
      ]
     },
     "metadata": {},
     "output_type": "display_data"
    }
   ],
   "source": [
    "streaming_response = toolkit.model.get_response(model, messages)\n",
    "complete_response = render_live(streaming_response)\n",
    "messages.append({\"role\": \"assistant\", \"content\": complete_response})"
   ]
  },
  {
   "cell_type": "markdown",
   "id": "4e504974-c90e-4cce-b9dd-ff8714f01e87",
   "metadata": {},
   "source": [
    "And there we have it! The model correctly processed both function outputs and provided a final, user-friendly summary comparing our spending in each category to the budgets we provided."
   ]
  },
  {
   "cell_type": "markdown",
   "id": "c969873a-b841-451a-bb54-ef8b035f9e43",
   "metadata": {},
   "source": [
    "### Conclusion and next steps\n",
    "\n",
    "This brings us to the end of the tutorial. Congratulations! You've successfully built a multimodal, function-calling agent that runs entirely on your own machine.\n",
    "\n",
    "Feel free to play around with the code in this notebook, try different scenarios, and see what you can build. If you have any questions or want to share what you've build, please start a discussion [here](https://github.com/gamemaker1/gemma3-function-calling-tutorial/discussions/new/choose)!"
   ]
  }
 ],
 "metadata": {
  "kernelspec": {
   "display_name": "Python 3 (ipykernel)",
   "language": "python",
   "name": "python3"
  },
  "language_info": {
   "codemirror_mode": {
    "name": "ipython",
    "version": 3
   },
   "file_extension": ".py",
   "mimetype": "text/x-python",
   "name": "python",
   "nbconvert_exporter": "python",
   "pygments_lexer": "ipython3",
   "version": "3.13.3"
  }
 },
 "nbformat": 4,
 "nbformat_minor": 5
}
